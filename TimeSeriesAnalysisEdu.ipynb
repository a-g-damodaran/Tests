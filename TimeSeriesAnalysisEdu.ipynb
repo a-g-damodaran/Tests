{
 "cells": [
  {
   "cell_type": "code",
   "execution_count": null,
   "metadata": {},
   "outputs": [],
   "source": [
    "import numpy as np\n",
    "import pandas as pd\n",
    "import matplotlib.pyplot as plt\n",
    "from statsmodels.tsa.stattools import adfuller"
   ]
  },
  {
   "cell_type": "code",
   "execution_count": null,
   "metadata": {},
   "outputs": [],
   "source": [
    "usd_to_pound = pd.read_csv(\"BOE-XUDLERD.csv\")\n",
    "usd_to_pound.head()"
   ]
  },
  {
   "cell_type": "code",
   "execution_count": null,
   "metadata": {},
   "outputs": [],
   "source": [
    "# Step1 --- PLOT THE TIME SERIES...\n",
    "usd_to_pound['Date'] = pd.to_datetime(usd_to_pound['Date'])\n",
    "ts_data = usd_to_pound.set_index('Date')\n",
    "ts_data.head()"
   ]
  },
  {
   "cell_type": "code",
   "execution_count": null,
   "metadata": {},
   "outputs": [],
   "source": [
    "plt.figure(figsize=(8,8))\n",
    "plt.plot(ts_data)"
   ]
  },
  {
   "cell_type": "code",
   "execution_count": null,
   "metadata": {},
   "outputs": [],
   "source": [
    "plt.plot(usd_to_pound['Date'],usd_to_pound['Value'])"
   ]
  },
  {
   "cell_type": "code",
   "execution_count": null,
   "metadata": {},
   "outputs": [],
   "source": [
    "############################ MOVING AVERAGE TECHNIQUE\n",
    "\n",
    "ts_data_weekly = ts_data.resample('W').mean()\n",
    "plt.figure(figsize=(10,8))\n",
    "plt.plot(ts_data_weekly)"
   ]
  },
  {
   "cell_type": "code",
   "execution_count": null,
   "metadata": {},
   "outputs": [],
   "source": [
    "#ts_data_weekly.head()"
   ]
  },
  {
   "cell_type": "code",
   "execution_count": null,
   "metadata": {},
   "outputs": [],
   "source": [
    "### To check for stationarity - WE WILL CHECK WHETHER TIME SERIES IS STATIONARY OR NOT\n",
    "# Do a ADF TEST\n",
    "adf_result = adfuller(ts_data_weekly['Value'])\n",
    "p_value = adf_result[1]\n",
    "print(\"adf_p_value \" + str(p_value))"
   ]
  },
  {
   "cell_type": "code",
   "execution_count": null,
   "metadata": {},
   "outputs": [],
   "source": [
    "# because p-val > 0.05 We understand that this is a non-stationary time series\n",
    "\n",
    "#adf_result  \n",
    "# Test statistic ( Z/t - statistic, p-value,lags,no of. obs, )"
   ]
  },
  {
   "cell_type": "code",
   "execution_count": null,
   "metadata": {},
   "outputs": [],
   "source": [
    "# TO CONVERT IT INTO A STATIONARY TIME SERIES\n",
    "# 1. take log\n",
    "ts_data_weekly_log = np.log(ts_data_weekly)\n",
    "# 2. take lag difference\n",
    "plt.plot(ts_data_weekly_log)"
   ]
  },
  {
   "cell_type": "code",
   "execution_count": null,
   "metadata": {},
   "outputs": [],
   "source": [
    "# Take the difference\n",
    "ts_data_weekly_log_diff_order1 = ts_data_weekly_log - ts_data_weekly_log.shift(periods=1)\n",
    "plt.plot(ts_data_weekly_log_diff_order1)"
   ]
  },
  {
   "cell_type": "code",
   "execution_count": null,
   "metadata": {},
   "outputs": [],
   "source": [
    "ts_data_weekly_log_diff_order1.dropna(inplace=True)\n",
    "ts_data_weekly_log_diff_order1.head()"
   ]
  },
  {
   "cell_type": "code",
   "execution_count": null,
   "metadata": {},
   "outputs": [],
   "source": [
    "adf_result = adfuller(ts_data_weekly_log_diff_order1['Value'])\n",
    "p_value = adf_result[1]\n",
    "print(\"adf_p_value \" + str(p_value))"
   ]
  },
  {
   "cell_type": "code",
   "execution_count": null,
   "metadata": {},
   "outputs": [],
   "source": [
    "# p-value < 0.05 ---> stationary time series\n",
    "# ORDER OF DIFFERENCING REQUIRED TO CONVERT IT INTO STATIONARY =1"
   ]
  },
  {
   "cell_type": "code",
   "execution_count": null,
   "metadata": {},
   "outputs": [],
   "source": [
    "#### ACF and PACF \n",
    "from statsmodels.graphics.tsaplots import plot_acf,plot_pacf\n",
    "from statsmodels.tsa.stattools import acf,pacf"
   ]
  },
  {
   "cell_type": "code",
   "execution_count": null,
   "metadata": {},
   "outputs": [],
   "source": [
    "acf_output =acf(ts_data_weekly_log_diff_order1,nlags=10)\n",
    "pacf_output = pacf(ts_data_weekly_log_diff_order1,nlags = 10)"
   ]
  },
  {
   "cell_type": "code",
   "execution_count": null,
   "metadata": {},
   "outputs": [],
   "source": [
    "acf_output"
   ]
  },
  {
   "cell_type": "code",
   "execution_count": null,
   "metadata": {},
   "outputs": [],
   "source": [
    "pacf_output"
   ]
  },
  {
   "cell_type": "code",
   "execution_count": null,
   "metadata": {},
   "outputs": [],
   "source": [
    "ul = 7.96 / np.sqrt(len(ts_data_weekly_log_diff_order1))\n",
    "ul"
   ]
  },
  {
   "cell_type": "code",
   "execution_count": null,
   "metadata": {},
   "outputs": [],
   "source": [
    "ll = -7.96 / np.sqrt(len(ts_data_weekly_log_diff_order1))\n",
    "ll"
   ]
  },
  {
   "cell_type": "code",
   "execution_count": null,
   "metadata": {},
   "outputs": [],
   "source": [
    "# Any value of ACF or PACF that lies between 0.16 and -0.16 is not significant\n"
   ]
  },
  {
   "cell_type": "code",
   "execution_count": null,
   "metadata": {},
   "outputs": [],
   "source": [
    "plt.figure(figsize=(10,8))\n",
    "plot_acf(ts_data_weekly_log_diff_order1,lags = 10)"
   ]
  },
  {
   "cell_type": "code",
   "execution_count": null,
   "metadata": {},
   "outputs": [],
   "source": [
    "plt.figure(figsize=(10,8))\n",
    "plot_pacf(ts_data_weekly_log_diff_order1,lags = 10)"
   ]
  },
  {
   "cell_type": "code",
   "execution_count": null,
   "metadata": {},
   "outputs": [],
   "source": [
    "# Auto correlation graph will give you order of MA model ---> value of q =1\n",
    "# PACF graph will give you order of AR model ---> value of p = 1"
   ]
  },
  {
   "cell_type": "code",
   "execution_count": null,
   "metadata": {},
   "outputs": [],
   "source": [
    "# p=1\n",
    "# q=1\n",
    "# order of differencing to convert a non stationary time series to stationary = 1(d)"
   ]
  },
  {
   "cell_type": "code",
   "execution_count": null,
   "metadata": {},
   "outputs": [],
   "source": [
    "### ARIMA MODEL\n",
    "## AR = Auto regressive (p)\n",
    "## Integrated (d)\n",
    "## MA = MOVING AVERAGE (q)\n",
    "from statsmodels.tsa.arima_model import ARIMA\n",
    "arima_model = ARIMA(ts_data_weekly_log,order = (1,1,1))\n",
    "results = arima_model.fit(disp=0)\n",
    "plt.plot(ts_data_weekly_log_diff_order1)\n",
    "plt.plot(results.fittedvalues, color='red')\n",
    "#ARIMA(ts_data_weekly_log_diff_order1,order = (1,0,1))"
   ]
  },
  {
   "cell_type": "code",
   "execution_count": null,
   "metadata": {},
   "outputs": [],
   "source": [
    "print(results.summary()) #-13732.987   -13592.901"
   ]
  },
  {
   "cell_type": "code",
   "execution_count": null,
   "metadata": {},
   "outputs": [],
   "source": [
    "### PRediction using ARIMA MODE\n",
    "# Predicted values for the existing time periods\n",
    "fitted_val_ARIMA = pd.Series(results.fittedvalues)\n",
    "fitted_val_ARIMA.head()"
   ]
  },
  {
   "cell_type": "code",
   "execution_count": null,
   "metadata": {},
   "outputs": [],
   "source": [
    "-0.002418 +0.001002+ 0.000055"
   ]
  },
  {
   "cell_type": "code",
   "execution_count": null,
   "metadata": {},
   "outputs": [],
   "source": [
    "### Back in the original scale\n",
    "fitted_val_ARIMA_cumsum = fitted_val_ARIMA.cumsum()\n",
    "fitted_val_ARIMA_cumsum_orig_scale = np.exp(fitted_val_ARIMA_cumsum)\n",
    "plt.figure( figsize=(10,8))\n",
    "plt.plot(ts_data_weekly)\n",
    "plt.plot(fitted_val_ARIMA_cumsum_orig_scale)"
   ]
  },
  {
   "cell_type": "code",
   "execution_count": null,
   "metadata": {
    "scrolled": true
   },
   "outputs": [],
   "source": [
    "# POINT IN TIME FORECAST\n",
    "results.forecast(steps = 12)[0]"
   ]
  },
  {
   "cell_type": "code",
   "execution_count": null,
   "metadata": {},
   "outputs": [],
   "source": [
    "ts_data_weekly_log.shape"
   ]
  },
  {
   "cell_type": "code",
   "execution_count": null,
   "metadata": {},
   "outputs": [],
   "source": [
    "ts_data_weekly_log.head()"
   ]
  },
  {
   "cell_type": "code",
   "execution_count": null,
   "metadata": {},
   "outputs": [],
   "source": [
    "# ROLLING FORECAST\n",
    "#size = int(len(X) * 0.66)\n",
    "train, test = ts_data_weekly_log[0:2225], ts_data_weekly_log[2225:len(ts_data_weekly_log)]\n",
    "test.shape"
   ]
  },
  {
   "cell_type": "code",
   "execution_count": null,
   "metadata": {},
   "outputs": [],
   "source": [
    "test.head()"
   ]
  },
  {
   "cell_type": "code",
   "execution_count": null,
   "metadata": {},
   "outputs": [],
   "source": [
    "#history = [x for x in train['Value']]\n",
    "#history"
   ]
  },
  {
   "cell_type": "code",
   "execution_count": null,
   "metadata": {},
   "outputs": [],
   "source": [
    "from sklearn.metrics import mean_squared_error\n",
    "history = [x for x in train['Value']]\n",
    "predictions = list()\n",
    "for t in range(len(test)):\n",
    "    model = ARIMA(history, order=(1,1,1))\n",
    "    model_fit = model.fit(disp=0)\n",
    "    output = model_fit.forecast()\n",
    "    yhat = output[0]\n",
    "    #predictions.append(float(yhat))\n",
    "    obs = test['Value'][t]\n",
    "    history.append(obs)\n",
    "    print('predicted=%f, expected=%f' % (np.exp(yhat), np.exp(obs)))\n",
    "    predictions.append(np.exp(yhat))\n",
    "error = mean_squared_error(test['Value'], predictions)\n",
    "print('Test MSE: %.3f' % error)"
   ]
  },
  {
   "cell_type": "code",
   "execution_count": null,
   "metadata": {},
   "outputs": [],
   "source": [
    "# Autocorrelation in the error ( Durbin watson test)\n",
    "# shapiro test\n",
    "# ERROR in the predicted random"
   ]
  }
 ],
 "metadata": {
  "kernelspec": {
   "display_name": "Python 3 (ipykernel)",
   "language": "python",
   "name": "python3"
  },
  "language_info": {
   "codemirror_mode": {
    "name": "ipython",
    "version": 3
   },
   "file_extension": ".py",
   "mimetype": "text/x-python",
   "name": "python",
   "nbconvert_exporter": "python",
   "pygments_lexer": "ipython3",
   "version": "3.9.13"
  }
 },
 "nbformat": 4,
 "nbformat_minor": 2
}
