{
 "cells": [
  {
   "cell_type": "code",
   "execution_count": 6,
   "metadata": {},
   "outputs": [],
   "source": [
    "import numpy as np\n",
    "import pandas as pd\n",
    "import matplotlib.pyplot as plt\n",
    "from scipy.stats import norm, stats, uniform\n",
    "import math"
   ]
  },
  {
   "cell_type": "code",
   "execution_count": 16,
   "metadata": {},
   "outputs": [
    {
     "data": {
      "text/plain": [
       "array([4.17022005e-01, 7.20324493e-01, 1.14374817e-04, 3.02332573e-01,\n",
       "       1.46755891e-01, 9.23385948e-02, 1.86260211e-01, 3.45560727e-01,\n",
       "       3.96767474e-01, 5.38816734e-01, 4.19194514e-01, 6.85219500e-01,\n",
       "       2.04452250e-01, 8.78117436e-01, 2.73875932e-02, 6.70467510e-01,\n",
       "       4.17304802e-01, 5.58689828e-01, 1.40386939e-01, 1.98101489e-01,\n",
       "       8.00744569e-01, 9.68261576e-01, 3.13424178e-01, 6.92322616e-01,\n",
       "       8.76389152e-01, 8.94606664e-01, 8.50442114e-02, 3.90547832e-02,\n",
       "       1.69830420e-01, 8.78142503e-01, 9.83468338e-02, 4.21107625e-01,\n",
       "       9.57889530e-01, 5.33165285e-01, 6.91877114e-01, 3.15515631e-01,\n",
       "       6.86500928e-01, 8.34625672e-01, 1.82882773e-02, 7.50144315e-01,\n",
       "       9.88861089e-01, 7.48165654e-01, 2.80443992e-01, 7.89279328e-01,\n",
       "       1.03226007e-01, 4.47893526e-01, 9.08595503e-01, 2.93614148e-01,\n",
       "       2.87775339e-01, 1.30028572e-01, 1.93669579e-02, 6.78835533e-01,\n",
       "       2.11628116e-01, 2.65546659e-01, 4.91573159e-01, 5.33625451e-02,\n",
       "       5.74117605e-01, 1.46728575e-01, 5.89305537e-01, 6.99758360e-01,\n",
       "       1.02334429e-01, 4.14055988e-01, 6.94400158e-01, 4.14179270e-01,\n",
       "       4.99534589e-02, 5.35896406e-01, 6.63794645e-01, 5.14889112e-01,\n",
       "       9.44594756e-01, 5.86555041e-01, 9.03401915e-01, 1.37474704e-01,\n",
       "       1.39276347e-01, 8.07391289e-01, 3.97676837e-01, 1.65354197e-01,\n",
       "       9.27508580e-01, 3.47765860e-01, 7.50812103e-01, 7.25997985e-01,\n",
       "       8.83306091e-01, 6.23672207e-01, 7.50942434e-01, 3.48898342e-01,\n",
       "       2.69927892e-01, 8.95886218e-01, 4.28091190e-01, 9.64840047e-01,\n",
       "       6.63441498e-01, 6.21695720e-01, 1.14745973e-01, 9.49489259e-01,\n",
       "       4.49912133e-01, 5.78389614e-01, 4.08136803e-01, 2.37026980e-01,\n",
       "       9.03379521e-01, 5.73679487e-01, 2.87032703e-03, 6.17144914e-01])"
      ]
     },
     "execution_count": 16,
     "metadata": {},
     "output_type": "execute_result"
    }
   ],
   "source": [
    "x1 = uniform.rvs(0,1,size=100,random_state=1)\n",
    "x1"
   ]
  },
  {
   "cell_type": "code",
   "execution_count": 17,
   "metadata": {
    "scrolled": true
   },
   "outputs": [
    {
     "data": {
      "text/plain": [
       "array([ 1.62434536, -0.61175641, -0.52817175, -1.07296862,  0.86540763,\n",
       "       -2.3015387 ,  1.74481176, -0.7612069 ,  0.3190391 , -0.24937038,\n",
       "        1.46210794, -2.06014071, -0.3224172 , -0.38405435,  1.13376944,\n",
       "       -1.09989127, -0.17242821, -0.87785842,  0.04221375,  0.58281521,\n",
       "       -1.10061918,  1.14472371,  0.90159072,  0.50249434,  0.90085595,\n",
       "       -0.68372786, -0.12289023, -0.93576943, -0.26788808,  0.53035547,\n",
       "       -0.69166075, -0.39675353, -0.6871727 , -0.84520564, -0.67124613,\n",
       "       -0.0126646 , -1.11731035,  0.2344157 ,  1.65980218,  0.74204416,\n",
       "       -0.19183555, -0.88762896, -0.74715829,  1.6924546 ,  0.05080775,\n",
       "       -0.63699565,  0.19091548,  2.10025514,  0.12015895,  0.61720311,\n",
       "        0.30017032, -0.35224985, -1.1425182 , -0.34934272, -0.20889423,\n",
       "        0.58662319,  0.83898341,  0.93110208,  0.28558733,  0.88514116,\n",
       "       -0.75439794,  1.25286816,  0.51292982, -0.29809284,  0.48851815,\n",
       "       -0.07557171,  1.13162939,  1.51981682,  2.18557541, -1.39649634,\n",
       "       -1.44411381, -0.50446586,  0.16003707,  0.87616892,  0.31563495,\n",
       "       -2.02220122, -0.30620401,  0.82797464,  0.23009474,  0.76201118,\n",
       "       -0.22232814, -0.20075807,  0.18656139,  0.41005165,  0.19829972,\n",
       "        0.11900865, -0.67066229,  0.37756379,  0.12182127,  1.12948391,\n",
       "        1.19891788,  0.18515642, -0.37528495, -0.63873041,  0.42349435,\n",
       "        0.07734007, -0.34385368,  0.04359686, -0.62000084,  0.69803203])"
      ]
     },
     "execution_count": 17,
     "metadata": {},
     "output_type": "execute_result"
    }
   ],
   "source": [
    "nd = norm.rvs(size=100,random_state=1)\n",
    "nd"
   ]
  },
  {
   "cell_type": "code",
   "execution_count": 19,
   "metadata": {
    "scrolled": true
   },
   "outputs": [
    {
     "data": {
      "text/plain": [
       "array([ 1.83285637, -0.25159417, -0.52811456, -0.92180234,  0.93878557,\n",
       "       -2.2553694 ,  1.83794187, -0.58842654,  0.51742283,  0.02003799,\n",
       "        1.67170519, -1.71753096, -0.22019108,  0.05500436,  1.14746324,\n",
       "       -0.76465751,  0.03622419, -0.5985135 ,  0.11240722,  0.68186596,\n",
       "       -0.70024689,  1.6288545 ,  1.05830281,  0.84865565,  1.33905053,\n",
       "       -0.23642453, -0.08036812, -0.91624204, -0.18297287,  0.96942672,\n",
       "       -0.64248733, -0.18619971, -0.20822794, -0.578623  , -0.32530757,\n",
       "        0.14509322, -0.77405988,  0.65172853,  1.66894632,  1.11711632,\n",
       "        0.30259499, -0.51354614, -0.6069363 ,  2.08709427,  0.10242076,\n",
       "       -0.41304888,  0.64521324,  2.24706221,  0.26404662,  0.6822174 ,\n",
       "        0.3098538 , -0.01283208, -1.03670414, -0.21656939,  0.03689235,\n",
       "        0.61330446,  1.12604222,  1.00446637,  0.58024009,  1.23502034,\n",
       "       -0.70323073,  1.45989615,  0.8601299 , -0.0910032 ,  0.51349488,\n",
       "        0.19237649,  1.46352671,  1.77726137,  2.65787278, -1.10321882,\n",
       "       -0.99241285, -0.43572851,  0.22967524,  1.27986457,  0.51447337,\n",
       "       -1.93952412,  0.15755028,  1.00185757,  0.60550079,  1.12501017,\n",
       "        0.2193249 ,  0.11107803,  0.56203261,  0.58450082,  0.33326367,\n",
       "        0.56695175, -0.45661669,  0.85998381,  0.45354202,  1.44033177,\n",
       "        1.25629087,  0.65990105, -0.15032888, -0.3495356 ,  0.62756276,\n",
       "        0.19585356,  0.10783608,  0.3304366 , -0.61856568,  1.00660449])"
      ]
     },
     "execution_count": 19,
     "metadata": {},
     "output_type": "execute_result"
    }
   ],
   "source": [
    "x2 = x1*0.5 + nd\n",
    "x2"
   ]
  },
  {
   "cell_type": "code",
   "execution_count": 56,
   "metadata": {},
   "outputs": [],
   "source": [
    "nd1 = norm.rvs(size=100,random_state=1)\n",
    "nd1\n",
    "y = 2 + 2*x1 + 0.3*x2 + nd1\n",
    "mean1 = y.mean()\n"
   ]
  },
  {
   "cell_type": "code",
   "execution_count": 29,
   "metadata": {},
   "outputs": [
    {
     "data": {
      "text/html": [
       "<div>\n",
       "<style scoped>\n",
       "    .dataframe tbody tr th:only-of-type {\n",
       "        vertical-align: middle;\n",
       "    }\n",
       "\n",
       "    .dataframe tbody tr th {\n",
       "        vertical-align: top;\n",
       "    }\n",
       "\n",
       "    .dataframe thead th {\n",
       "        text-align: right;\n",
       "    }\n",
       "</style>\n",
       "<table border=\"1\" class=\"dataframe\">\n",
       "  <thead>\n",
       "    <tr style=\"text-align: right;\">\n",
       "      <th></th>\n",
       "      <th>Y</th>\n",
       "    </tr>\n",
       "  </thead>\n",
       "  <tbody>\n",
       "    <tr>\n",
       "      <th>0</th>\n",
       "      <td>5.008246</td>\n",
       "    </tr>\n",
       "    <tr>\n",
       "      <th>1</th>\n",
       "      <td>2.753414</td>\n",
       "    </tr>\n",
       "    <tr>\n",
       "      <th>2</th>\n",
       "      <td>1.313623</td>\n",
       "    </tr>\n",
       "    <tr>\n",
       "      <th>3</th>\n",
       "      <td>1.255156</td>\n",
       "    </tr>\n",
       "    <tr>\n",
       "      <th>4</th>\n",
       "      <td>3.440555</td>\n",
       "    </tr>\n",
       "    <tr>\n",
       "      <th>...</th>\n",
       "      <td>...</td>\n",
       "    </tr>\n",
       "    <tr>\n",
       "      <th>95</th>\n",
       "      <td>2.610150</td>\n",
       "    </tr>\n",
       "    <tr>\n",
       "      <th>96</th>\n",
       "      <td>3.495256</td>\n",
       "    </tr>\n",
       "    <tr>\n",
       "      <th>97</th>\n",
       "      <td>3.290087</td>\n",
       "    </tr>\n",
       "    <tr>\n",
       "      <th>98</th>\n",
       "      <td>1.200170</td>\n",
       "    </tr>\n",
       "    <tr>\n",
       "      <th>99</th>\n",
       "      <td>4.234303</td>\n",
       "    </tr>\n",
       "  </tbody>\n",
       "</table>\n",
       "<p>100 rows × 1 columns</p>\n",
       "</div>"
      ],
      "text/plain": [
       "           Y\n",
       "0   5.008246\n",
       "1   2.753414\n",
       "2   1.313623\n",
       "3   1.255156\n",
       "4   3.440555\n",
       "..       ...\n",
       "95  2.610150\n",
       "96  3.495256\n",
       "97  3.290087\n",
       "98  1.200170\n",
       "99  4.234303\n",
       "\n",
       "[100 rows x 1 columns]"
      ]
     },
     "execution_count": 29,
     "metadata": {},
     "output_type": "execute_result"
    }
   ],
   "source": [
    "dict= {'X1':x1,'X2':x2}\n",
    "X = pd.DataFrame(dict)\n",
    "X\n",
    "y = pd.DataFrame(y,columns =['Y'])\n",
    "y\n"
   ]
  },
  {
   "cell_type": "code",
   "execution_count": 30,
   "metadata": {},
   "outputs": [
    {
     "data": {
      "text/plain": [
       "LinearRegression()"
      ]
     },
     "execution_count": 30,
     "metadata": {},
     "output_type": "execute_result"
    }
   ],
   "source": [
    "from sklearn.linear_model import LinearRegression\n",
    "from sklearn.metrics import r2_score\n",
    "import sys\n",
    "lr = LinearRegression()\n",
    "lr.fit(X,y)"
   ]
  },
  {
   "cell_type": "code",
   "execution_count": 54,
   "metadata": {},
   "outputs": [],
   "source": [
    "intercept1 = lr.intercept_"
   ]
  },
  {
   "cell_type": "code",
   "execution_count": 55,
   "metadata": {},
   "outputs": [],
   "source": [
    "coeff1 = lr.coef_"
   ]
  },
  {
   "cell_type": "code",
   "execution_count": 41,
   "metadata": {},
   "outputs": [
    {
     "data": {
      "text/plain": [
       "{'copy_X': True, 'fit_intercept': True, 'n_jobs': None, 'normalize': False}"
      ]
     },
     "execution_count": 41,
     "metadata": {},
     "output_type": "execute_result"
    }
   ],
   "source": [
    "lr.get_params()"
   ]
  },
  {
   "cell_type": "code",
   "execution_count": 36,
   "metadata": {},
   "outputs": [
    {
     "data": {
      "text/plain": [
       "1.0"
      ]
     },
     "execution_count": 36,
     "metadata": {},
     "output_type": "execute_result"
    }
   ],
   "source": [
    "lr.score(X,y)"
   ]
  },
  {
   "cell_type": "code",
   "execution_count": 42,
   "metadata": {},
   "outputs": [],
   "source": [
    "ypred = lr.predict(X)"
   ]
  },
  {
   "cell_type": "code",
   "execution_count": 48,
   "metadata": {},
   "outputs": [
    {
     "data": {
      "text/plain": [
       "1.0"
      ]
     },
     "execution_count": 48,
     "metadata": {},
     "output_type": "execute_result"
    }
   ],
   "source": [
    "r2_score(y,ypred)"
   ]
  },
  {
   "cell_type": "code",
   "execution_count": 44,
   "metadata": {},
   "outputs": [
    {
     "data": {
      "text/plain": [
       "2"
      ]
     },
     "execution_count": 44,
     "metadata": {},
     "output_type": "execute_result"
    }
   ],
   "source": [
    "lr.n_features_in_"
   ]
  },
  {
   "cell_type": "code",
   "execution_count": 45,
   "metadata": {},
   "outputs": [
    {
     "data": {
      "text/plain": [
       "2"
      ]
     },
     "execution_count": 45,
     "metadata": {},
     "output_type": "execute_result"
    }
   ],
   "source": [
    "lr.rank_"
   ]
  },
  {
   "cell_type": "code",
   "execution_count": 46,
   "metadata": {},
   "outputs": [
    {
     "data": {
      "text/plain": [
       "False"
      ]
     },
     "execution_count": 46,
     "metadata": {},
     "output_type": "execute_result"
    }
   ],
   "source": [
    "lr.normalize"
   ]
  },
  {
   "cell_type": "code",
   "execution_count": 53,
   "metadata": {},
   "outputs": [],
   "source": [
    "j=lr.n_jobs\n",
    "j"
   ]
  },
  {
   "cell_type": "code",
   "execution_count": 57,
   "metadata": {},
   "outputs": [
    {
     "name": "stdout",
     "output_type": "stream",
     "text": [
      "3.1233952520387214 [2.] [[1.5 1.3]]\n"
     ]
    }
   ],
   "source": [
    "print(mean1,intercept1,coeff1)"
   ]
  },
  {
   "cell_type": "code",
   "execution_count": 74,
   "metadata": {},
   "outputs": [
    {
     "data": {
      "text/plain": [
       "[3.1233952520387214, array([2.]), array([1.5, 1.3])]"
      ]
     },
     "execution_count": 74,
     "metadata": {},
     "output_type": "execute_result"
    }
   ],
   "source": [
    "l1 = []\n",
    "# m1 = list(mean1)\n",
    "i1 = list(intercept1)\n",
    "c1 = list(coeff1[0])\n",
    "l1.append(mean1)\n",
    "l1.append(intercept1)\n",
    "l1.append(coeff1[0])\n",
    "l1"
   ]
  },
  {
   "cell_type": "code",
   "execution_count": 94,
   "metadata": {},
   "outputs": [],
   "source": [
    "i = round(i1[0],2)"
   ]
  },
  {
   "cell_type": "code",
   "execution_count": 69,
   "metadata": {},
   "outputs": [
    {
     "data": {
      "text/plain": [
       "list"
      ]
     },
     "execution_count": 69,
     "metadata": {},
     "output_type": "execute_result"
    }
   ],
   "source": [
    "type(c1)"
   ]
  },
  {
   "cell_type": "code",
   "execution_count": 99,
   "metadata": {},
   "outputs": [
    {
     "data": {
      "text/plain": [
       "[1.5, 1.3]"
      ]
     },
     "execution_count": 99,
     "metadata": {},
     "output_type": "execute_result"
    }
   ],
   "source": [
    "C1 = [round(c1[0],1),round(c1[1],1)]\n",
    "C1"
   ]
  },
  {
   "cell_type": "code",
   "execution_count": 100,
   "metadata": {},
   "outputs": [],
   "source": [
    "\n",
    "m1 = round(mean1,2)\n",
    "l1 = str(m1)\n",
    "l2 = str(i)\n",
    "l3 = str(C1)"
   ]
  },
  {
   "cell_type": "code",
   "execution_count": 103,
   "metadata": {},
   "outputs": [],
   "source": [
    "f1 = open('output.csv','a+')\n",
    "f1.writelines(l1)\n",
    "f1.writelines(l2)\n",
    "f1.writelines(l3)\n",
    "# print(f1.read())\n",
    "f1.close()"
   ]
  },
  {
   "cell_type": "code",
   "execution_count": 104,
   "metadata": {},
   "outputs": [
    {
     "name": "stdout",
     "output_type": "stream",
     "text": [
      "3.122.0[1.5, 1.3]3.122.0[1.5, 1.3]\n"
     ]
    }
   ],
   "source": [
    "f1 = open('output.csv','r')\n",
    "# f1.writelines(l1)\n",
    "print(f1.read())\n",
    "f1.close()"
   ]
  },
  {
   "cell_type": "code",
   "execution_count": null,
   "metadata": {},
   "outputs": [],
   "source": [
    "#  'C:\\\\Users\\\\Dell\\\\anaconda3\\\\lib\\\\site-packages\\\\sklearn\\\\datasets\\\\data\\\\boston_house_prices.csv'"
   ]
  },
  {
   "cell_type": "code",
   "execution_count": 213,
   "metadata": {},
   "outputs": [],
   "source": [
    "# data"
   ]
  },
  {
   "cell_type": "code",
   "execution_count": 113,
   "metadata": {},
   "outputs": [
    {
     "data": {
      "text/html": [
       "<div>\n",
       "<style scoped>\n",
       "    .dataframe tbody tr th:only-of-type {\n",
       "        vertical-align: middle;\n",
       "    }\n",
       "\n",
       "    .dataframe tbody tr th {\n",
       "        vertical-align: top;\n",
       "    }\n",
       "\n",
       "    .dataframe thead th {\n",
       "        text-align: right;\n",
       "    }\n",
       "</style>\n",
       "<table border=\"1\" class=\"dataframe\">\n",
       "  <thead>\n",
       "    <tr style=\"text-align: right;\">\n",
       "      <th></th>\n",
       "      <th>CRIM</th>\n",
       "      <th>ZN</th>\n",
       "      <th>INDUS</th>\n",
       "      <th>CHAS</th>\n",
       "      <th>NOX</th>\n",
       "      <th>RM</th>\n",
       "      <th>AGE</th>\n",
       "      <th>DIS</th>\n",
       "      <th>RAD</th>\n",
       "      <th>TAX</th>\n",
       "      <th>PTRATIO</th>\n",
       "      <th>B</th>\n",
       "      <th>LSTAT</th>\n",
       "      <th>target</th>\n",
       "    </tr>\n",
       "  </thead>\n",
       "  <tbody>\n",
       "    <tr>\n",
       "      <th>0</th>\n",
       "      <td>0.00632</td>\n",
       "      <td>18.0</td>\n",
       "      <td>2.31</td>\n",
       "      <td>0.0</td>\n",
       "      <td>0.538</td>\n",
       "      <td>6.575</td>\n",
       "      <td>65.2</td>\n",
       "      <td>4.0900</td>\n",
       "      <td>1.0</td>\n",
       "      <td>296.0</td>\n",
       "      <td>15.3</td>\n",
       "      <td>396.90</td>\n",
       "      <td>4.98</td>\n",
       "      <td>24.0</td>\n",
       "    </tr>\n",
       "    <tr>\n",
       "      <th>1</th>\n",
       "      <td>0.02731</td>\n",
       "      <td>0.0</td>\n",
       "      <td>7.07</td>\n",
       "      <td>0.0</td>\n",
       "      <td>0.469</td>\n",
       "      <td>6.421</td>\n",
       "      <td>78.9</td>\n",
       "      <td>4.9671</td>\n",
       "      <td>2.0</td>\n",
       "      <td>242.0</td>\n",
       "      <td>17.8</td>\n",
       "      <td>396.90</td>\n",
       "      <td>9.14</td>\n",
       "      <td>21.6</td>\n",
       "    </tr>\n",
       "    <tr>\n",
       "      <th>2</th>\n",
       "      <td>0.02729</td>\n",
       "      <td>0.0</td>\n",
       "      <td>7.07</td>\n",
       "      <td>0.0</td>\n",
       "      <td>0.469</td>\n",
       "      <td>7.185</td>\n",
       "      <td>61.1</td>\n",
       "      <td>4.9671</td>\n",
       "      <td>2.0</td>\n",
       "      <td>242.0</td>\n",
       "      <td>17.8</td>\n",
       "      <td>392.83</td>\n",
       "      <td>4.03</td>\n",
       "      <td>34.7</td>\n",
       "    </tr>\n",
       "    <tr>\n",
       "      <th>3</th>\n",
       "      <td>0.03237</td>\n",
       "      <td>0.0</td>\n",
       "      <td>2.18</td>\n",
       "      <td>0.0</td>\n",
       "      <td>0.458</td>\n",
       "      <td>6.998</td>\n",
       "      <td>45.8</td>\n",
       "      <td>6.0622</td>\n",
       "      <td>3.0</td>\n",
       "      <td>222.0</td>\n",
       "      <td>18.7</td>\n",
       "      <td>394.63</td>\n",
       "      <td>2.94</td>\n",
       "      <td>33.4</td>\n",
       "    </tr>\n",
       "    <tr>\n",
       "      <th>4</th>\n",
       "      <td>0.06905</td>\n",
       "      <td>0.0</td>\n",
       "      <td>2.18</td>\n",
       "      <td>0.0</td>\n",
       "      <td>0.458</td>\n",
       "      <td>7.147</td>\n",
       "      <td>54.2</td>\n",
       "      <td>6.0622</td>\n",
       "      <td>3.0</td>\n",
       "      <td>222.0</td>\n",
       "      <td>18.7</td>\n",
       "      <td>396.90</td>\n",
       "      <td>5.33</td>\n",
       "      <td>36.2</td>\n",
       "    </tr>\n",
       "  </tbody>\n",
       "</table>\n",
       "</div>"
      ],
      "text/plain": [
       "      CRIM    ZN  INDUS  CHAS    NOX     RM   AGE     DIS  RAD    TAX  \\\n",
       "0  0.00632  18.0   2.31   0.0  0.538  6.575  65.2  4.0900  1.0  296.0   \n",
       "1  0.02731   0.0   7.07   0.0  0.469  6.421  78.9  4.9671  2.0  242.0   \n",
       "2  0.02729   0.0   7.07   0.0  0.469  7.185  61.1  4.9671  2.0  242.0   \n",
       "3  0.03237   0.0   2.18   0.0  0.458  6.998  45.8  6.0622  3.0  222.0   \n",
       "4  0.06905   0.0   2.18   0.0  0.458  7.147  54.2  6.0622  3.0  222.0   \n",
       "\n",
       "   PTRATIO       B  LSTAT  target  \n",
       "0     15.3  396.90   4.98    24.0  \n",
       "1     17.8  396.90   9.14    21.6  \n",
       "2     17.8  392.83   4.03    34.7  \n",
       "3     18.7  394.63   2.94    33.4  \n",
       "4     18.7  396.90   5.33    36.2  "
      ]
     },
     "execution_count": 113,
     "metadata": {},
     "output_type": "execute_result"
    }
   ],
   "source": [
    "from sklearn import datasets\n",
    "data = datasets.load_boston()\n",
    "# data = datasets.load_breast_cancer()\n",
    "df = pd.DataFrame(data.data, columns=data.feature_names)\n",
    "df['target'] = data.target\n",
    "df.head()"
   ]
  },
  {
   "cell_type": "code",
   "execution_count": 166,
   "metadata": {},
   "outputs": [
    {
     "data": {
      "text/plain": [
       "(506, 14)"
      ]
     },
     "execution_count": 166,
     "metadata": {},
     "output_type": "execute_result"
    }
   ],
   "source": [
    "op1 = df.shape\n",
    "op1"
   ]
  },
  {
   "cell_type": "code",
   "execution_count": 117,
   "metadata": {
    "scrolled": true
   },
   "outputs": [
    {
     "data": {
      "text/plain": [
       "3.795042687747034"
      ]
     },
     "execution_count": 117,
     "metadata": {},
     "output_type": "execute_result"
    }
   ],
   "source": [
    "op1a = df.DIS.mean()"
   ]
  },
  {
   "cell_type": "code",
   "execution_count": 118,
   "metadata": {},
   "outputs": [
    {
     "data": {
      "text/plain": [
       "2.103628356344459"
      ]
     },
     "execution_count": 118,
     "metadata": {},
     "output_type": "execute_result"
    }
   ],
   "source": [
    "op2 = np.std(df.DIS)\n",
    "op2"
   ]
  },
  {
   "cell_type": "code",
   "execution_count": 121,
   "metadata": {},
   "outputs": [
    {
     "data": {
      "text/plain": [
       "0.09351768725370405"
      ]
     },
     "execution_count": 121,
     "metadata": {},
     "output_type": "execute_result"
    }
   ],
   "source": [
    "se1 = op2/math.sqrt(op1[0])\n",
    "se1"
   ]
  },
  {
   "cell_type": "code",
   "execution_count": 144,
   "metadata": {},
   "outputs": [],
   "source": [
    "splist = []\n",
    "for i in range(100):\n",
    "#     seeding?\n",
    "# \n",
    "    sp = df.DIS.sample(n= 30, axis=0, random_state=1)\n",
    "    splist.append(sp)"
   ]
  },
  {
   "cell_type": "code",
   "execution_count": 158,
   "metadata": {},
   "outputs": [
    {
     "data": {
      "text/plain": [
       "100"
      ]
     },
     "execution_count": 158,
     "metadata": {},
     "output_type": "execute_result"
    }
   ],
   "source": [
    "import random as rd\n",
    "splist1 = []\n",
    "for i in range(100):\n",
    "    pop = list(df.DIS)\n",
    "    rd.seed=1\n",
    "    sp1 = rd.sample(pop,30)\n",
    "    m1 = np.mean(sp1)\n",
    "    splist1.append(m1)\n",
    "len(splist1)"
   ]
  },
  {
   "cell_type": "code",
   "execution_count": 156,
   "metadata": {},
   "outputs": [
    {
     "name": "stdout",
     "output_type": "stream",
     "text": [
      "3.8609392333333328 0.407974234842745\n"
     ]
    }
   ],
   "source": [
    "m2 = np.mean(splist1)\n",
    "s2 = np.std(splist1)\n",
    "print(m2,s2)"
   ]
  },
  {
   "cell_type": "code",
   "execution_count": 142,
   "metadata": {},
   "outputs": [
    {
     "data": {
      "text/plain": [
       "0.031543452804263336"
      ]
     },
     "execution_count": 142,
     "metadata": {},
     "output_type": "execute_result"
    }
   ],
   "source": [
    "op3 = s2/math.sqrt(100)\n",
    "op3"
   ]
  },
  {
   "cell_type": "code",
   "execution_count": 160,
   "metadata": {},
   "outputs": [
    {
     "data": {
      "text/plain": [
       "1.959963984540054"
      ]
     },
     "execution_count": 160,
     "metadata": {},
     "output_type": "execute_result"
    }
   ],
   "source": [
    "from scipy.stats import norm, stats\n",
    "zs1 = norm.ppf(0.975)\n",
    "zs1"
   ]
  },
  {
   "cell_type": "code",
   "execution_count": 163,
   "metadata": {},
   "outputs": [
    {
     "data": {
      "text/plain": [
       "4.907706666666667"
      ]
     },
     "execution_count": 163,
     "metadata": {},
     "output_type": "execute_result"
    }
   ],
   "source": [
    "np.max(splist1)"
   ]
  },
  {
   "cell_type": "code",
   "execution_count": 168,
   "metadata": {},
   "outputs": [],
   "source": [
    "mer1 = zs1*op3"
   ]
  },
  {
   "cell_type": "code",
   "execution_count": 170,
   "metadata": {},
   "outputs": [
    {
     "name": "stdout",
     "output_type": "stream",
     "text": [
      "3.7991152018889376 3.922763264777728\n"
     ]
    }
   ],
   "source": [
    "uf = m2 + mer1\n",
    "lf = m2 - mer1\n",
    "op3a = print(lf,uf)"
   ]
  },
  {
   "cell_type": "code",
   "execution_count": 210,
   "metadata": {},
   "outputs": [
    {
     "data": {
      "text/html": [
       "<div>\n",
       "<style scoped>\n",
       "    .dataframe tbody tr th:only-of-type {\n",
       "        vertical-align: middle;\n",
       "    }\n",
       "\n",
       "    .dataframe tbody tr th {\n",
       "        vertical-align: top;\n",
       "    }\n",
       "\n",
       "    .dataframe thead th {\n",
       "        text-align: right;\n",
       "    }\n",
       "</style>\n",
       "<table border=\"1\" class=\"dataframe\">\n",
       "  <thead>\n",
       "    <tr style=\"text-align: right;\">\n",
       "      <th></th>\n",
       "      <th>PassengerId</th>\n",
       "      <th>Survived</th>\n",
       "      <th>Pclass</th>\n",
       "      <th>Name</th>\n",
       "      <th>Sex</th>\n",
       "      <th>Age</th>\n",
       "      <th>SibSp</th>\n",
       "      <th>Parch</th>\n",
       "      <th>Ticket</th>\n",
       "      <th>Fare</th>\n",
       "      <th>Cabin</th>\n",
       "      <th>Embarked</th>\n",
       "    </tr>\n",
       "  </thead>\n",
       "  <tbody>\n",
       "    <tr>\n",
       "      <th>0</th>\n",
       "      <td>1</td>\n",
       "      <td>0</td>\n",
       "      <td>3</td>\n",
       "      <td>Braund, Mr. Owen Harris</td>\n",
       "      <td>male</td>\n",
       "      <td>22.0</td>\n",
       "      <td>1</td>\n",
       "      <td>0</td>\n",
       "      <td>A/5 21171</td>\n",
       "      <td>7.2500</td>\n",
       "      <td>NaN</td>\n",
       "      <td>S</td>\n",
       "    </tr>\n",
       "    <tr>\n",
       "      <th>1</th>\n",
       "      <td>2</td>\n",
       "      <td>1</td>\n",
       "      <td>1</td>\n",
       "      <td>Cumings, Mrs. John Bradley (Florence Briggs Th...</td>\n",
       "      <td>female</td>\n",
       "      <td>38.0</td>\n",
       "      <td>1</td>\n",
       "      <td>0</td>\n",
       "      <td>PC 17599</td>\n",
       "      <td>71.2833</td>\n",
       "      <td>C85</td>\n",
       "      <td>C</td>\n",
       "    </tr>\n",
       "    <tr>\n",
       "      <th>2</th>\n",
       "      <td>3</td>\n",
       "      <td>1</td>\n",
       "      <td>3</td>\n",
       "      <td>Heikkinen, Miss. Laina</td>\n",
       "      <td>female</td>\n",
       "      <td>26.0</td>\n",
       "      <td>0</td>\n",
       "      <td>0</td>\n",
       "      <td>STON/O2. 3101282</td>\n",
       "      <td>7.9250</td>\n",
       "      <td>NaN</td>\n",
       "      <td>S</td>\n",
       "    </tr>\n",
       "    <tr>\n",
       "      <th>3</th>\n",
       "      <td>4</td>\n",
       "      <td>1</td>\n",
       "      <td>1</td>\n",
       "      <td>Futrelle, Mrs. Jacques Heath (Lily May Peel)</td>\n",
       "      <td>female</td>\n",
       "      <td>35.0</td>\n",
       "      <td>1</td>\n",
       "      <td>0</td>\n",
       "      <td>113803</td>\n",
       "      <td>53.1000</td>\n",
       "      <td>C123</td>\n",
       "      <td>S</td>\n",
       "    </tr>\n",
       "    <tr>\n",
       "      <th>4</th>\n",
       "      <td>5</td>\n",
       "      <td>0</td>\n",
       "      <td>3</td>\n",
       "      <td>Allen, Mr. William Henry</td>\n",
       "      <td>male</td>\n",
       "      <td>35.0</td>\n",
       "      <td>0</td>\n",
       "      <td>0</td>\n",
       "      <td>373450</td>\n",
       "      <td>8.0500</td>\n",
       "      <td>NaN</td>\n",
       "      <td>S</td>\n",
       "    </tr>\n",
       "    <tr>\n",
       "      <th>...</th>\n",
       "      <td>...</td>\n",
       "      <td>...</td>\n",
       "      <td>...</td>\n",
       "      <td>...</td>\n",
       "      <td>...</td>\n",
       "      <td>...</td>\n",
       "      <td>...</td>\n",
       "      <td>...</td>\n",
       "      <td>...</td>\n",
       "      <td>...</td>\n",
       "      <td>...</td>\n",
       "      <td>...</td>\n",
       "    </tr>\n",
       "    <tr>\n",
       "      <th>886</th>\n",
       "      <td>887</td>\n",
       "      <td>0</td>\n",
       "      <td>2</td>\n",
       "      <td>Montvila, Rev. Juozas</td>\n",
       "      <td>male</td>\n",
       "      <td>27.0</td>\n",
       "      <td>0</td>\n",
       "      <td>0</td>\n",
       "      <td>211536</td>\n",
       "      <td>13.0000</td>\n",
       "      <td>NaN</td>\n",
       "      <td>S</td>\n",
       "    </tr>\n",
       "    <tr>\n",
       "      <th>887</th>\n",
       "      <td>888</td>\n",
       "      <td>1</td>\n",
       "      <td>1</td>\n",
       "      <td>Graham, Miss. Margaret Edith</td>\n",
       "      <td>female</td>\n",
       "      <td>19.0</td>\n",
       "      <td>0</td>\n",
       "      <td>0</td>\n",
       "      <td>112053</td>\n",
       "      <td>30.0000</td>\n",
       "      <td>B42</td>\n",
       "      <td>S</td>\n",
       "    </tr>\n",
       "    <tr>\n",
       "      <th>888</th>\n",
       "      <td>889</td>\n",
       "      <td>0</td>\n",
       "      <td>3</td>\n",
       "      <td>Johnston, Miss. Catherine Helen \"Carrie\"</td>\n",
       "      <td>female</td>\n",
       "      <td>NaN</td>\n",
       "      <td>1</td>\n",
       "      <td>2</td>\n",
       "      <td>W./C. 6607</td>\n",
       "      <td>23.4500</td>\n",
       "      <td>NaN</td>\n",
       "      <td>S</td>\n",
       "    </tr>\n",
       "    <tr>\n",
       "      <th>889</th>\n",
       "      <td>890</td>\n",
       "      <td>1</td>\n",
       "      <td>1</td>\n",
       "      <td>Behr, Mr. Karl Howell</td>\n",
       "      <td>male</td>\n",
       "      <td>26.0</td>\n",
       "      <td>0</td>\n",
       "      <td>0</td>\n",
       "      <td>111369</td>\n",
       "      <td>30.0000</td>\n",
       "      <td>C148</td>\n",
       "      <td>C</td>\n",
       "    </tr>\n",
       "    <tr>\n",
       "      <th>890</th>\n",
       "      <td>891</td>\n",
       "      <td>0</td>\n",
       "      <td>3</td>\n",
       "      <td>Dooley, Mr. Patrick</td>\n",
       "      <td>male</td>\n",
       "      <td>32.0</td>\n",
       "      <td>0</td>\n",
       "      <td>0</td>\n",
       "      <td>370376</td>\n",
       "      <td>7.7500</td>\n",
       "      <td>NaN</td>\n",
       "      <td>Q</td>\n",
       "    </tr>\n",
       "  </tbody>\n",
       "</table>\n",
       "<p>891 rows × 12 columns</p>\n",
       "</div>"
      ],
      "text/plain": [
       "     PassengerId  Survived  Pclass  \\\n",
       "0              1         0       3   \n",
       "1              2         1       1   \n",
       "2              3         1       3   \n",
       "3              4         1       1   \n",
       "4              5         0       3   \n",
       "..           ...       ...     ...   \n",
       "886          887         0       2   \n",
       "887          888         1       1   \n",
       "888          889         0       3   \n",
       "889          890         1       1   \n",
       "890          891         0       3   \n",
       "\n",
       "                                                  Name     Sex   Age  SibSp  \\\n",
       "0                              Braund, Mr. Owen Harris    male  22.0      1   \n",
       "1    Cumings, Mrs. John Bradley (Florence Briggs Th...  female  38.0      1   \n",
       "2                               Heikkinen, Miss. Laina  female  26.0      0   \n",
       "3         Futrelle, Mrs. Jacques Heath (Lily May Peel)  female  35.0      1   \n",
       "4                             Allen, Mr. William Henry    male  35.0      0   \n",
       "..                                                 ...     ...   ...    ...   \n",
       "886                              Montvila, Rev. Juozas    male  27.0      0   \n",
       "887                       Graham, Miss. Margaret Edith  female  19.0      0   \n",
       "888           Johnston, Miss. Catherine Helen \"Carrie\"  female   NaN      1   \n",
       "889                              Behr, Mr. Karl Howell    male  26.0      0   \n",
       "890                                Dooley, Mr. Patrick    male  32.0      0   \n",
       "\n",
       "     Parch            Ticket     Fare Cabin Embarked  \n",
       "0        0         A/5 21171   7.2500   NaN        S  \n",
       "1        0          PC 17599  71.2833   C85        C  \n",
       "2        0  STON/O2. 3101282   7.9250   NaN        S  \n",
       "3        0            113803  53.1000  C123        S  \n",
       "4        0            373450   8.0500   NaN        S  \n",
       "..     ...               ...      ...   ...      ...  \n",
       "886      0            211536  13.0000   NaN        S  \n",
       "887      0            112053  30.0000   B42        S  \n",
       "888      2        W./C. 6607  23.4500   NaN        S  \n",
       "889      0            111369  30.0000  C148        C  \n",
       "890      0            370376   7.7500   NaN        Q  \n",
       "\n",
       "[891 rows x 12 columns]"
      ]
     },
     "execution_count": 210,
     "metadata": {},
     "output_type": "execute_result"
    }
   ],
   "source": [
    "df = pd.read_csv(r'C:\\Users\\Dell\\Desktop\\DataFolder\\Titanic.csv',sep=',')\n",
    "# df = pd.DataFrame()\n",
    "df"
   ]
  },
  {
   "cell_type": "code",
   "execution_count": null,
   "metadata": {},
   "outputs": [],
   "source": [
    "2. Compute the mean and standard deviation for its quantitative data columns \n",
    "Compute the above-mentioned statistics for the columns Age, SibSp, Parch and Fare"
   ]
  },
  {
   "cell_type": "code",
   "execution_count": 175,
   "metadata": {},
   "outputs": [
    {
     "data": {
      "text/plain": [
       "Age      29.699118\n",
       "SibSp     0.523008\n",
       "Parch     0.381594\n",
       "Fare     32.204208\n",
       "dtype: float64"
      ]
     },
     "execution_count": 175,
     "metadata": {},
     "output_type": "execute_result"
    }
   ],
   "source": [
    "df[['Age','SibSp','Parch','Fare']].mean()"
   ]
  },
  {
   "cell_type": "code",
   "execution_count": null,
   "metadata": {},
   "outputs": [],
   "source": [
    "3. What percentage of total population survived?\n",
    "Calculate and print the percentage of people who survived based on the data provided in the data set"
   ]
  },
  {
   "cell_type": "code",
   "execution_count": 211,
   "metadata": {},
   "outputs": [
    {
     "data": {
      "text/plain": [
       "38.38383838383838"
      ]
     },
     "execution_count": 211,
     "metadata": {},
     "output_type": "execute_result"
    }
   ],
   "source": [
    "len(df[(df.Survived==1)])/len(df)*100"
   ]
  },
  {
   "cell_type": "code",
   "execution_count": null,
   "metadata": {},
   "outputs": [],
   "source": [
    "4. Calculate conditional probability \n",
    "Calculate the probability that a passenger survived given that she is a female\n",
    "Calculate the probability that a passenger survived given that he is a male"
   ]
  },
  {
   "cell_type": "code",
   "execution_count": 185,
   "metadata": {},
   "outputs": [
    {
     "data": {
      "text/html": [
       "<div>\n",
       "<style scoped>\n",
       "    .dataframe tbody tr th:only-of-type {\n",
       "        vertical-align: middle;\n",
       "    }\n",
       "\n",
       "    .dataframe tbody tr th {\n",
       "        vertical-align: top;\n",
       "    }\n",
       "\n",
       "    .dataframe thead th {\n",
       "        text-align: right;\n",
       "    }\n",
       "</style>\n",
       "<table border=\"1\" class=\"dataframe\">\n",
       "  <thead>\n",
       "    <tr style=\"text-align: right;\">\n",
       "      <th>Survived</th>\n",
       "      <th>0</th>\n",
       "      <th>1</th>\n",
       "      <th>All</th>\n",
       "    </tr>\n",
       "    <tr>\n",
       "      <th>Sex</th>\n",
       "      <th></th>\n",
       "      <th></th>\n",
       "      <th></th>\n",
       "    </tr>\n",
       "  </thead>\n",
       "  <tbody>\n",
       "    <tr>\n",
       "      <th>female</th>\n",
       "      <td>81</td>\n",
       "      <td>233</td>\n",
       "      <td>314</td>\n",
       "    </tr>\n",
       "    <tr>\n",
       "      <th>male</th>\n",
       "      <td>468</td>\n",
       "      <td>109</td>\n",
       "      <td>577</td>\n",
       "    </tr>\n",
       "    <tr>\n",
       "      <th>All</th>\n",
       "      <td>549</td>\n",
       "      <td>342</td>\n",
       "      <td>891</td>\n",
       "    </tr>\n",
       "  </tbody>\n",
       "</table>\n",
       "</div>"
      ],
      "text/plain": [
       "Survived    0    1  All\n",
       "Sex                    \n",
       "female     81  233  314\n",
       "male      468  109  577\n",
       "All       549  342  891"
      ]
     },
     "execution_count": 185,
     "metadata": {},
     "output_type": "execute_result"
    }
   ],
   "source": [
    "cp1 = pd.crosstab(df.Sex,df.Survived,margins=True)\n",
    "cp1"
   ]
  },
  {
   "cell_type": "code",
   "execution_count": 189,
   "metadata": {},
   "outputs": [
    {
     "data": {
      "text/plain": [
       "0.7420382165605095"
      ]
     },
     "execution_count": 189,
     "metadata": {},
     "output_type": "execute_result"
    }
   ],
   "source": [
    "cpf = (233/891)/(314/891)\n",
    "cpf"
   ]
  },
  {
   "cell_type": "code",
   "execution_count": 190,
   "metadata": {},
   "outputs": [
    {
     "data": {
      "text/plain": [
       "0.18890814558058924"
      ]
     },
     "execution_count": 190,
     "metadata": {},
     "output_type": "execute_result"
    }
   ],
   "source": [
    "cpm = (109/891)/(577/891)\n",
    "cpm"
   ]
  },
  {
   "cell_type": "code",
   "execution_count": null,
   "metadata": {},
   "outputs": [],
   "source": [
    "5. Analyse if there is a significant diiference in the Age of Class 1 and 3"
   ]
  },
  {
   "cell_type": "code",
   "execution_count": 194,
   "metadata": {},
   "outputs": [],
   "source": [
    "p1age = df[(df.Pclass==1)]['Age'].mean()"
   ]
  },
  {
   "cell_type": "code",
   "execution_count": 195,
   "metadata": {
    "scrolled": true
   },
   "outputs": [],
   "source": [
    "p2age = df[(df.Pclass==3)]['Age'].mean()"
   ]
  },
  {
   "cell_type": "code",
   "execution_count": 207,
   "metadata": {},
   "outputs": [],
   "source": [
    "df = p1age - p2age"
   ]
  },
  {
   "cell_type": "code",
   "execution_count": 201,
   "metadata": {},
   "outputs": [
    {
     "data": {
      "text/plain": [
       "29.699"
      ]
     },
     "execution_count": 201,
     "metadata": {},
     "output_type": "execute_result"
    }
   ],
   "source": [
    "op1r1 = round(df.Age.mean(),3)\n",
    "op1r1"
   ]
  },
  {
   "cell_type": "code",
   "execution_count": 202,
   "metadata": {},
   "outputs": [
    {
     "data": {
      "text/plain": [
       "14.526"
      ]
     },
     "execution_count": 202,
     "metadata": {},
     "output_type": "execute_result"
    }
   ],
   "source": [
    "op1r2 = round(df.Age.std(),3)\n",
    "op1r2"
   ]
  },
  {
   "cell_type": "code",
   "execution_count": 203,
   "metadata": {},
   "outputs": [
    {
     "data": {
      "text/plain": [
       "1.103"
      ]
     },
     "execution_count": 203,
     "metadata": {},
     "output_type": "execute_result"
    }
   ],
   "source": [
    "op1r3 = round(df.SibSp.mean(),3)\n",
    "op1r3\n",
    "op1r4 = round(df.SibSp.std(),3)\n",
    "op1r4"
   ]
  },
  {
   "cell_type": "code",
   "execution_count": 204,
   "metadata": {},
   "outputs": [
    {
     "data": {
      "text/plain": [
       "0.806"
      ]
     },
     "execution_count": 204,
     "metadata": {},
     "output_type": "execute_result"
    }
   ],
   "source": [
    "op1r5 = round(df.Parch.mean(),3)\n",
    "op1r5\n",
    "op1r6 = round(df.Parch.std(),3)\n",
    "op1r6"
   ]
  },
  {
   "cell_type": "code",
   "execution_count": 205,
   "metadata": {},
   "outputs": [
    {
     "data": {
      "text/plain": [
       "49.693"
      ]
     },
     "execution_count": 205,
     "metadata": {},
     "output_type": "execute_result"
    }
   ],
   "source": [
    "op1r7 = round(df.Fare.mean(),3)\n",
    "op1r7\n",
    "op1r8 = round(df.Fare.std(),3)\n",
    "op1r8"
   ]
  },
  {
   "cell_type": "code",
   "execution_count": null,
   "metadata": {},
   "outputs": [],
   "source": [
    "Value of percentage of total population survived calculated in Step 3 and rounded to 3 decimal places in the form \n",
    "such as 35.623 on the "
   ]
  },
  {
   "cell_type": "code",
   "execution_count": 212,
   "metadata": {},
   "outputs": [],
   "source": [
    "op2r1=round(len(df[(df.Survived==1)])/len(df)*100,3)\n",
    "op2r2 = round(cpf,3)\n",
    "op2r3 = round(cpm,3)\n",
    "op2r4 = round(df,3)"
   ]
  },
  {
   "cell_type": "code",
   "execution_count": 215,
   "metadata": {},
   "outputs": [],
   "source": [
    "import numpy as np\n",
    "import pandas as pd\n",
    "import matplotlib.pyplot as plt\n",
    "from scipy.stats import norm, stats\n",
    "from sklearn.linear_model import LinearRegression\n",
    "from sklearn.metrics import r2_score\n",
    "import sys\n",
    "import math\n",
    "sys.path.append('../')\n",
    "list1 = []\n",
    "list2 = []\n",
    "def solution():\n",
    "    # Write code here\n",
    "    dfmpg = pd.read_csv(r'C:\\Users\\Dell\\Desktop\\DataFolder\\mpg.csv')\n",
    "    df1 = dfmpg[['mpg','displacement']]\n",
    "    c1 = df1.corr()\n",
    "    p1 = c1.iloc[0,1]\n",
    "    \n",
    "    if p1 > 0:\n",
    "        assn = 'Positive Correlation'\n",
    "    elif p1 < 0:\n",
    "        assn = 'Negative Correlation'\n",
    "    else:\n",
    "        assn = 'No Correlation'\n",
    "\n",
    "    mean1 = dfmpg.mpg.mean()\n",
    "    stddev1 = dfmpg.mpg.std()\n",
    "    se1 = stddev1/math.sqrt(len(dfmpg))\n",
    "    list1.extend([assn,round(mean1,1),round(stddev1,1),round(se1,1)])\n",
    "    p1df = pd.DataFrame(list1,columns = ['Correlation - Mean - SD'])\n",
    "    p1df.to_csv('output1.csv')\n",
    "    \n",
    "    z1 = norm.ppf(.975)\n",
    "    me1 = z1 * se1\n",
    "\n",
    "    upbound = mean1 + me1 \n",
    "    lwbound = mean1 - me1 \n",
    "   \n",
    "\n",
    "    lr = LinearRegression()\n",
    "    x = dfmpg[['displacement']]\n",
    "    y = dfmpg[['mpg']]\n",
    "\n",
    "    lr.fit(x,y)\n",
    "    score1 = lr.score(y,x)\n",
    "    score2 = r2_score(y,x)\n",
    "    list2.extend([round(upbound,2),round(lwbound,2),round(score1,2),round(score2,2)])\n",
    "    p2df = pd.DataFrame(list2,columns = ['OtherMetrics'])\n",
    "    p2df.to_csv('output2.csv')\n",
    "    return\n",
    "\n",
    "solution()"
   ]
  },
  {
   "cell_type": "code",
   "execution_count": 97,
   "metadata": {
    "scrolled": false
   },
   "outputs": [],
   "source": [
    "import numpy as np\n",
    "import pandas as pd\n",
    "from scipy.stats import norm, stats\n",
    "from sklearn.linear_model import LinearRegression\n",
    "from sklearn.preprocessing import PolynomialFeatures\n",
    "from sklearn.metrics import r2_score\n",
    "import sys\n",
    "import math\n",
    "\n",
    "def solution():\n",
    "    x1 = []\n",
    "    x2 = []\n",
    "    er = [] \n",
    "    p1 = []\n",
    "\n",
    "    for i in range(500):\n",
    "        x = randint(0,500)\n",
    "        x1.append(x)\n",
    "\n",
    "    z1 = stats.zscore(x1)\n",
    "\n",
    "    # print(z1)\n",
    "    # print()\n",
    "\n",
    "    for i in z1:\n",
    "        s = math.sqrt(.75)\n",
    "        mean = 0.5\n",
    "        x3 = i*s + mean\n",
    "        er.append(x3)\n",
    "    # print()\n",
    "    # print(er)\n",
    "\n",
    "    X = np.array(z1)\n",
    "    X = X.reshape(-1,1)\n",
    "    err = np.array(er)\n",
    "    err = err.reshape(-1,1)\n",
    "\n",
    "    poly_reg = PolynomialFeatures(degree=2)\n",
    "    X_p = poly_reg.fit_transform(X)\n",
    "\n",
    "    y = -1 + 0.5*X_p + err\n",
    "    #     print(y)\n",
    "\n",
    "    lr1 = LinearRegression()\n",
    "    lr1.fit(X_p,y)\n",
    "\n",
    "    p1.extend(lr1.coef_)\n",
    "    np1 = np.array(p1)\n",
    "\n",
    "    p1df = pd.DataFrame(np1,columns=['CF1','CF2','CF3'])\n",
    "    np2 = np.array(lr1.intercept_)\n",
    "    p1df['Incpt'] = np2\n",
    "    p1df.to_csv('coeff_incpt.csv')\n",
    "\n",
    "\n",
    "    from sklearn.model_selection import train_test_split as tts\n",
    "    from sklearn.preprocessing import StandardScaler \n",
    "\n",
    "    # ss = StandardScaler()\n",
    "    # X = ss.fit_transform(X)\n",
    "\n",
    "    X_train,X_test,y_train,y_test = tts(X,y,test_size = .3,random_state = 21)\n",
    "    lr2 = LinearRegression()\n",
    "    lr2.fit(X_train,y_train)\n",
    "    ypred = lr2.predict(X_test)\n",
    "\n",
    "    from sklearn.metrics import mean_squared_error as mse\n",
    "    np3 = np.array([mse(ypred,y_test)])\n",
    "    p2df = pd.DataFrame(np3,columns=['MSE'])\n",
    "    p2df.to_csv('coeff_incpt_mse.csv')\n",
    "    df = pd.concat([p1df,p2df],axis=0)\n",
    "    # df = pd.DataFrame(p1,columns=['Coef_Incpt_MSE'])\n",
    "    df.to_csv('output.csv')\n",
    "\n",
    "solution()"
   ]
  },
  {
   "cell_type": "code",
   "execution_count": 95,
   "metadata": {},
   "outputs": [
    {
     "data": {
      "text/html": [
       "<div>\n",
       "<style scoped>\n",
       "    .dataframe tbody tr th:only-of-type {\n",
       "        vertical-align: middle;\n",
       "    }\n",
       "\n",
       "    .dataframe tbody tr th {\n",
       "        vertical-align: top;\n",
       "    }\n",
       "\n",
       "    .dataframe thead th {\n",
       "        text-align: right;\n",
       "    }\n",
       "</style>\n",
       "<table border=\"1\" class=\"dataframe\">\n",
       "  <thead>\n",
       "    <tr style=\"text-align: right;\">\n",
       "      <th></th>\n",
       "      <th>CF1</th>\n",
       "      <th>CF2</th>\n",
       "      <th>CF3</th>\n",
       "      <th>Incpt</th>\n",
       "      <th>MSE</th>\n",
       "    </tr>\n",
       "  </thead>\n",
       "  <tbody>\n",
       "    <tr>\n",
       "      <th>0</th>\n",
       "      <td>0.0</td>\n",
       "      <td>0.866025</td>\n",
       "      <td>3.330669e-16</td>\n",
       "      <td>-3.245355e-16</td>\n",
       "      <td>NaN</td>\n",
       "    </tr>\n",
       "    <tr>\n",
       "      <th>1</th>\n",
       "      <td>0.0</td>\n",
       "      <td>1.366025</td>\n",
       "      <td>2.220446e-16</td>\n",
       "      <td>-5.000000e-01</td>\n",
       "      <td>NaN</td>\n",
       "    </tr>\n",
       "    <tr>\n",
       "      <th>2</th>\n",
       "      <td>0.0</td>\n",
       "      <td>0.866025</td>\n",
       "      <td>5.000000e-01</td>\n",
       "      <td>-5.000000e-01</td>\n",
       "      <td>NaN</td>\n",
       "    </tr>\n",
       "    <tr>\n",
       "      <th>0</th>\n",
       "      <td>NaN</td>\n",
       "      <td>NaN</td>\n",
       "      <td>NaN</td>\n",
       "      <td>NaN</td>\n",
       "      <td>0.055076</td>\n",
       "    </tr>\n",
       "  </tbody>\n",
       "</table>\n",
       "</div>"
      ],
      "text/plain": [
       "   CF1       CF2           CF3         Incpt       MSE\n",
       "0  0.0  0.866025  3.330669e-16 -3.245355e-16       NaN\n",
       "1  0.0  1.366025  2.220446e-16 -5.000000e-01       NaN\n",
       "2  0.0  0.866025  5.000000e-01 -5.000000e-01       NaN\n",
       "0  NaN       NaN           NaN           NaN  0.055076"
      ]
     },
     "execution_count": 95,
     "metadata": {},
     "output_type": "execute_result"
    }
   ],
   "source": [
    "# pd.merge(p1df,p2df)\n"
   ]
  },
  {
   "cell_type": "code",
   "execution_count": 78,
   "metadata": {
    "scrolled": true
   },
   "outputs": [
    {
     "data": {
      "text/html": [
       "<div>\n",
       "<style scoped>\n",
       "    .dataframe tbody tr th:only-of-type {\n",
       "        vertical-align: middle;\n",
       "    }\n",
       "\n",
       "    .dataframe tbody tr th {\n",
       "        vertical-align: top;\n",
       "    }\n",
       "\n",
       "    .dataframe thead th {\n",
       "        text-align: right;\n",
       "    }\n",
       "</style>\n",
       "<table border=\"1\" class=\"dataframe\">\n",
       "  <thead>\n",
       "    <tr style=\"text-align: right;\">\n",
       "      <th></th>\n",
       "      <th>CF1</th>\n",
       "      <th>CF2</th>\n",
       "      <th>CF3</th>\n",
       "      <th>Incpt</th>\n",
       "    </tr>\n",
       "  </thead>\n",
       "  <tbody>\n",
       "    <tr>\n",
       "      <th>0</th>\n",
       "      <td>0.0</td>\n",
       "      <td>0.866025</td>\n",
       "      <td>4.996004e-16</td>\n",
       "      <td>-5.371956e-16</td>\n",
       "    </tr>\n",
       "    <tr>\n",
       "      <th>1</th>\n",
       "      <td>0.0</td>\n",
       "      <td>1.366025</td>\n",
       "      <td>6.661338e-16</td>\n",
       "      <td>-5.000000e-01</td>\n",
       "    </tr>\n",
       "    <tr>\n",
       "      <th>2</th>\n",
       "      <td>0.0</td>\n",
       "      <td>0.866025</td>\n",
       "      <td>5.000000e-01</td>\n",
       "      <td>-5.000000e-01</td>\n",
       "    </tr>\n",
       "  </tbody>\n",
       "</table>\n",
       "</div>"
      ],
      "text/plain": [
       "   CF1       CF2           CF3         Incpt\n",
       "0  0.0  0.866025  4.996004e-16 -5.371956e-16\n",
       "1  0.0  1.366025  6.661338e-16 -5.000000e-01\n",
       "2  0.0  0.866025  5.000000e-01 -5.000000e-01"
      ]
     },
     "execution_count": 78,
     "metadata": {},
     "output_type": "execute_result"
    }
   ],
   "source": [
    "p1df"
   ]
  },
  {
   "cell_type": "code",
   "execution_count": 83,
   "metadata": {},
   "outputs": [
    {
     "data": {
      "text/html": [
       "<div>\n",
       "<style scoped>\n",
       "    .dataframe tbody tr th:only-of-type {\n",
       "        vertical-align: middle;\n",
       "    }\n",
       "\n",
       "    .dataframe tbody tr th {\n",
       "        vertical-align: top;\n",
       "    }\n",
       "\n",
       "    .dataframe thead th {\n",
       "        text-align: right;\n",
       "    }\n",
       "</style>\n",
       "<table border=\"1\" class=\"dataframe\">\n",
       "  <thead>\n",
       "    <tr style=\"text-align: right;\">\n",
       "      <th></th>\n",
       "      <th>MSE</th>\n",
       "    </tr>\n",
       "  </thead>\n",
       "  <tbody>\n",
       "    <tr>\n",
       "      <th>0</th>\n",
       "      <td>0.055076</td>\n",
       "    </tr>\n",
       "  </tbody>\n",
       "</table>\n",
       "</div>"
      ],
      "text/plain": [
       "        MSE\n",
       "0  0.055076"
      ]
     },
     "execution_count": 83,
     "metadata": {},
     "output_type": "execute_result"
    }
   ],
   "source": [
    "p2df"
   ]
  },
  {
   "cell_type": "code",
   "execution_count": 70,
   "metadata": {
    "scrolled": true
   },
   "outputs": [
    {
     "data": {
      "text/plain": [
       "array([array([0.00000000e+00, 8.66025404e-01, 2.22044605e-16]),\n",
       "       array([0.00000000e+00, 1.36602540e+00, 2.22044605e-16]),\n",
       "       array([0.       , 0.8660254, 0.5      ]), -2.6861779129546306e-16,\n",
       "       -0.5000000000000004, -0.49999999999999983], dtype=object)"
      ]
     },
     "execution_count": 70,
     "metadata": {},
     "output_type": "execute_result"
    }
   ],
   "source": [
    "np1"
   ]
  },
  {
   "cell_type": "code",
   "execution_count": 54,
   "metadata": {},
   "outputs": [
    {
     "data": {
      "text/plain": [
       "array([[ 0.00000000e+00,  8.66025404e-01,  0.00000000e+00],\n",
       "       [ 0.00000000e+00,  1.36602540e+00, -2.22044605e-16],\n",
       "       [ 0.00000000e+00,  8.66025404e-01,  5.00000000e-01]])"
      ]
     },
     "execution_count": 54,
     "metadata": {},
     "output_type": "execute_result"
    }
   ],
   "source": [
    "lr1.coef_"
   ]
  },
  {
   "cell_type": "code",
   "execution_count": 55,
   "metadata": {},
   "outputs": [
    {
     "data": {
      "text/plain": [
       "array([ 1.92525187e-18, -5.00000000e-01, -5.00000000e-01])"
      ]
     },
     "execution_count": 55,
     "metadata": {},
     "output_type": "execute_result"
    }
   ],
   "source": [
    "lr1.intercept_"
   ]
  },
  {
   "cell_type": "code",
   "execution_count": 56,
   "metadata": {},
   "outputs": [
    {
     "data": {
      "text/plain": [
       "True"
      ]
     },
     "execution_count": 56,
     "metadata": {},
     "output_type": "execute_result"
    }
   ],
   "source": [
    "lr1.fit_intercept"
   ]
  },
  {
   "cell_type": "code",
   "execution_count": 57,
   "metadata": {},
   "outputs": [
    {
     "data": {
      "text/plain": [
       "array([ 0.       , -0.5      , -0.0099454])"
      ]
     },
     "execution_count": 57,
     "metadata": {},
     "output_type": "execute_result"
    }
   ],
   "source": [
    "lr2.intercept_"
   ]
  },
  {
   "cell_type": "code",
   "execution_count": 58,
   "metadata": {},
   "outputs": [
    {
     "data": {
      "text/plain": [
       "array([[0.8660254],\n",
       "       [1.3660254],\n",
       "       [0.8825176]])"
      ]
     },
     "execution_count": 58,
     "metadata": {},
     "output_type": "execute_result"
    }
   ],
   "source": [
    "lr2.coef_"
   ]
  },
  {
   "cell_type": "code",
   "execution_count": 36,
   "metadata": {},
   "outputs": [
    {
     "data": {
      "text/plain": [
       "0.8660254037844385"
      ]
     },
     "execution_count": 36,
     "metadata": {},
     "output_type": "execute_result"
    }
   ],
   "source": [
    "np1 = np.array(er)\n",
    "np.std(np1)\n",
    "# np.mean(np1)"
   ]
  },
  {
   "cell_type": "code",
   "execution_count": 33,
   "metadata": {
    "scrolled": true
   },
   "outputs": [
    {
     "data": {
      "text/plain": [
       "245.738"
      ]
     },
     "execution_count": 33,
     "metadata": {},
     "output_type": "execute_result"
    }
   ],
   "source": [
    "np1 = np.array(x1)\n",
    "np.std(np1)\n",
    "np.mean(np1)"
   ]
  },
  {
   "cell_type": "code",
   "execution_count": 34,
   "metadata": {},
   "outputs": [
    {
     "data": {
      "text/plain": [
       "245.738"
      ]
     },
     "execution_count": 34,
     "metadata": {},
     "output_type": "execute_result"
    }
   ],
   "source": [
    "np1 = np.array(x2)\n",
    "np.std(np1)\n",
    "np.mean(np1)"
   ]
  },
  {
   "cell_type": "code",
   "execution_count": 30,
   "metadata": {},
   "outputs": [
    {
     "data": {
      "text/plain": [
       "[445.0,\n",
       " 64.0,\n",
       " 20.0,\n",
       " 121.0,\n",
       " 291.0,\n",
       " 368.0,\n",
       " 108.0,\n",
       " 316.0,\n",
       " 429.0,\n",
       " 155.0,\n",
       " 34.0,\n",
       " 404.0,\n",
       " 72.0,\n",
       " 280.0,\n",
       " 75.0,\n",
       " 124.0,\n",
       " 225.0,\n",
       " 363.0,\n",
       " 396.0,\n",
       " 25.0,\n",
       " 470.0,\n",
       " 357.0,\n",
       " 0.0,\n",
       " 102.0,\n",
       " 346.0,\n",
       " 426.0,\n",
       " 236.0,\n",
       " 60.0,\n",
       " 443.0,\n",
       " 46.0,\n",
       " 453.0,\n",
       " 381.0,\n",
       " 271.0,\n",
       " 89.0,\n",
       " 210.0,\n",
       " 467.0,\n",
       " 95.0,\n",
       " 130.0,\n",
       " 196.0,\n",
       " 475.0,\n",
       " 355.0,\n",
       " 303.0,\n",
       " 116.0,\n",
       " 207.0,\n",
       " 226.0,\n",
       " 103.0,\n",
       " 214.0,\n",
       " 13.0,\n",
       " 139.0,\n",
       " 296.0,\n",
       " 432.0,\n",
       " 33.0,\n",
       " 86.0,\n",
       " 370.0,\n",
       " 77.0,\n",
       " 181.0,\n",
       " 278.0,\n",
       " 185.0,\n",
       " 121.0,\n",
       " 382.0,\n",
       " 370.0,\n",
       " 136.0,\n",
       " 456.0,\n",
       " 140.0,\n",
       " 376.0,\n",
       " 144.0,\n",
       " 120.0,\n",
       " 398.0,\n",
       " 114.0,\n",
       " 468.0,\n",
       " 208.0,\n",
       " 108.0,\n",
       " 200.0,\n",
       " 17.0,\n",
       " 288.0,\n",
       " 223.0,\n",
       " 36.0,\n",
       " 437.0,\n",
       " 98.0,\n",
       " 284.0,\n",
       " 387.0,\n",
       " 387.0,\n",
       " 150.0,\n",
       " 59.0,\n",
       " 208.0,\n",
       " 361.0,\n",
       " 80.0,\n",
       " 124.0,\n",
       " 490.0,\n",
       " 184.0,\n",
       " 125.0,\n",
       " 319.0,\n",
       " 167.0,\n",
       " 498.0,\n",
       " 93.0,\n",
       " 246.0,\n",
       " 81.0,\n",
       " 120.0,\n",
       " 87.0,\n",
       " 339.0,\n",
       " 494.0,\n",
       " 173.0,\n",
       " 148.0,\n",
       " 237.0,\n",
       " 83.0,\n",
       " 76.0,\n",
       " 52.0,\n",
       " 389.0,\n",
       " 465.0,\n",
       " 110.0,\n",
       " 330.0,\n",
       " 93.0,\n",
       " 283.0,\n",
       " 30.0,\n",
       " 37.0,\n",
       " 122.0,\n",
       " 178.0,\n",
       " 259.0,\n",
       " 122.0,\n",
       " 48.0,\n",
       " 334.0,\n",
       " 252.0,\n",
       " 348.0,\n",
       " 189.0,\n",
       " 298.0,\n",
       " 157.0,\n",
       " 485.0,\n",
       " 354.0,\n",
       " 105.0,\n",
       " 367.0,\n",
       " 84.0,\n",
       " 397.0,\n",
       " 221.0,\n",
       " 16.0,\n",
       " 292.0,\n",
       " 270.0,\n",
       " 233.0,\n",
       " 391.0,\n",
       " 457.0,\n",
       " 351.0,\n",
       " 200.0,\n",
       " 328.0,\n",
       " 118.0,\n",
       " 194.0,\n",
       " 414.0,\n",
       " 194.0,\n",
       " 145.0,\n",
       " 58.0,\n",
       " 253.0,\n",
       " 391.0,\n",
       " 106.0,\n",
       " 282.0,\n",
       " 312.0,\n",
       " 328.0,\n",
       " 342.0,\n",
       " 120.0,\n",
       " 159.0,\n",
       " 49.0,\n",
       " 451.0,\n",
       " 69.0,\n",
       " 376.0,\n",
       " 188.0,\n",
       " 271.0,\n",
       " 449.0,\n",
       " 275.0,\n",
       " 244.0,\n",
       " 467.0,\n",
       " 43.0,\n",
       " 63.0,\n",
       " 61.0,\n",
       " 276.0,\n",
       " 327.0,\n",
       " 165.0,\n",
       " 53.0,\n",
       " 405.0,\n",
       " 218.0,\n",
       " 398.0,\n",
       " 261.0,\n",
       " 312.0,\n",
       " 469.0,\n",
       " 298.0,\n",
       " 450.0,\n",
       " 396.0,\n",
       " 273.0,\n",
       " 463.0,\n",
       " 243.0,\n",
       " 142.0,\n",
       " 233.0,\n",
       " 68.0,\n",
       " 432.0,\n",
       " 446.0,\n",
       " 123.0,\n",
       " 190.0,\n",
       " 42.0,\n",
       " 9.0,\n",
       " 490.0,\n",
       " 136.0,\n",
       " 161.0,\n",
       " 109.0,\n",
       " 19.0,\n",
       " 332.0,\n",
       " 441.0,\n",
       " 359.0,\n",
       " 204.0,\n",
       " 85.0,\n",
       " 462.0,\n",
       " 96.0,\n",
       " 296.0,\n",
       " 416.0,\n",
       " 25.0,\n",
       " 324.0,\n",
       " 307.0,\n",
       " 55.0,\n",
       " 258.0,\n",
       " 311.0,\n",
       " 89.0,\n",
       " 457.0,\n",
       " 46.0,\n",
       " 297.0,\n",
       " 190.0,\n",
       " 322.0,\n",
       " 169.0,\n",
       " 329.0,\n",
       " 244.0,\n",
       " 289.0,\n",
       " 79.0,\n",
       " 456.0,\n",
       " 312.0,\n",
       " 331.0,\n",
       " 292.0,\n",
       " 226.0,\n",
       " 355.0,\n",
       " 208.0,\n",
       " 175.0,\n",
       " 462.0,\n",
       " 22.0,\n",
       " 293.0,\n",
       " 467.0,\n",
       " 320.0,\n",
       " 315.0,\n",
       " 312.0,\n",
       " 444.0,\n",
       " 94.0,\n",
       " 50.0,\n",
       " 63.0,\n",
       " 383.0,\n",
       " 316.0,\n",
       " 499.0,\n",
       " 74.0,\n",
       " 203.0,\n",
       " 230.0,\n",
       " 62.0,\n",
       " 182.0,\n",
       " 33.0,\n",
       " 404.0,\n",
       " 490.0,\n",
       " 406.0,\n",
       " 461.0,\n",
       " 347.0,\n",
       " 440.0,\n",
       " 355.0,\n",
       " 366.0,\n",
       " 433.0,\n",
       " 37.0,\n",
       " 130.0,\n",
       " 70.0,\n",
       " 110.0,\n",
       " 435.0,\n",
       " 374.0,\n",
       " 167.0,\n",
       " 282.0,\n",
       " 141.0,\n",
       " 23.0,\n",
       " 203.0,\n",
       " 331.0,\n",
       " 252.0,\n",
       " 69.0,\n",
       " 266.0,\n",
       " 172.0,\n",
       " 273.0,\n",
       " 417.0,\n",
       " 136.0,\n",
       " 500.0,\n",
       " 283.0,\n",
       " 149.0,\n",
       " 308.0,\n",
       " 337.0,\n",
       " 304.0,\n",
       " 426.0,\n",
       " 5.0,\n",
       " 79.0,\n",
       " 188.0,\n",
       " 345.0,\n",
       " 185.0,\n",
       " 250.0,\n",
       " 189.0,\n",
       " 193.0,\n",
       " 123.0,\n",
       " 342.0,\n",
       " 78.0,\n",
       " 359.0,\n",
       " 282.0,\n",
       " 52.0,\n",
       " 209.0,\n",
       " 496.0,\n",
       " 115.0,\n",
       " 418.0,\n",
       " 454.0,\n",
       " 147.0,\n",
       " 62.0,\n",
       " 238.0,\n",
       " 128.0,\n",
       " 268.0,\n",
       " 5.0,\n",
       " 176.0,\n",
       " 49.0,\n",
       " 167.0,\n",
       " 447.0,\n",
       " 291.0,\n",
       " 476.0,\n",
       " 448.0,\n",
       " 153.0,\n",
       " 272.0,\n",
       " 153.0,\n",
       " 98.0,\n",
       " 143.0,\n",
       " 113.0,\n",
       " 373.0,\n",
       " 17.0,\n",
       " 26.0,\n",
       " 116.0,\n",
       " 305.0,\n",
       " 279.0,\n",
       " 352.0,\n",
       " 482.0,\n",
       " 459.0,\n",
       " 346.0,\n",
       " 242.0,\n",
       " 231.0,\n",
       " 164.0,\n",
       " 375.0,\n",
       " 78.0,\n",
       " 395.0,\n",
       " 275.0,\n",
       " 96.0,\n",
       " 23.0,\n",
       " 258.0,\n",
       " 200.0,\n",
       " 179.0,\n",
       " 334.0,\n",
       " 72.0,\n",
       " 218.0,\n",
       " 247.0,\n",
       " 109.0,\n",
       " 499.0,\n",
       " 390.0,\n",
       " 91.0,\n",
       " 67.0,\n",
       " 20.0,\n",
       " 473.0,\n",
       " 333.0,\n",
       " 118.0,\n",
       " 72.0,\n",
       " 471.0,\n",
       " 468.0,\n",
       " 387.0,\n",
       " 51.0,\n",
       " 284.0,\n",
       " 202.0,\n",
       " 375.0,\n",
       " 36.0,\n",
       " 415.0,\n",
       " 182.0,\n",
       " 18.0,\n",
       " 239.0,\n",
       " 134.0,\n",
       " 91.0,\n",
       " 437.0,\n",
       " 413.0,\n",
       " 188.0,\n",
       " 482.0,\n",
       " 302.0,\n",
       " 220.0,\n",
       " 275.0,\n",
       " 348.0,\n",
       " 416.0,\n",
       " 305.0,\n",
       " 124.0,\n",
       " 53.0,\n",
       " 453.0,\n",
       " 333.0,\n",
       " 75.0,\n",
       " 275.0,\n",
       " 444.0,\n",
       " 312.0,\n",
       " 384.0,\n",
       " 122.0,\n",
       " 245.0,\n",
       " 494.0,\n",
       " 237.0,\n",
       " 251.0,\n",
       " 406.0,\n",
       " 347.0,\n",
       " 219.0,\n",
       " 438.0,\n",
       " 78.0,\n",
       " 437.0,\n",
       " 317.0,\n",
       " 157.0,\n",
       " 389.0,\n",
       " 127.0,\n",
       " 379.0,\n",
       " 198.0,\n",
       " 171.0,\n",
       " 206.0,\n",
       " 297.0,\n",
       " 19.0,\n",
       " 446.0,\n",
       " 222.0,\n",
       " 112.0,\n",
       " 374.0,\n",
       " 329.0,\n",
       " 478.0,\n",
       " 424.0,\n",
       " 176.0,\n",
       " 259.0,\n",
       " 494.0,\n",
       " 177.0,\n",
       " 490.0,\n",
       " 223.0,\n",
       " 287.0,\n",
       " 466.0,\n",
       " 104.0,\n",
       " 495.0,\n",
       " 398.0,\n",
       " 286.0,\n",
       " 225.0,\n",
       " 434.0,\n",
       " 143.0,\n",
       " 396.0,\n",
       " 60.0,\n",
       " 195.0,\n",
       " 270.0,\n",
       " 99.0,\n",
       " 412.0,\n",
       " 94.0,\n",
       " 118.0,\n",
       " 426.0,\n",
       " 280.0,\n",
       " 206.0,\n",
       " 129.0,\n",
       " 440.0,\n",
       " 303.0,\n",
       " 479.0,\n",
       " 159.0,\n",
       " 348.0,\n",
       " 472.0,\n",
       " 290.0,\n",
       " 54.0,\n",
       " 242.0,\n",
       " 404.0,\n",
       " 496.0,\n",
       " 13.0,\n",
       " 144.0,\n",
       " 377.0,\n",
       " 392.0,\n",
       " 422.0,\n",
       " 31.0,\n",
       " 16.0,\n",
       " 44.0,\n",
       " 208.0,\n",
       " 30.0,\n",
       " 465.0,\n",
       " 266.0,\n",
       " 233.0,\n",
       " 42.0,\n",
       " 463.0,\n",
       " 6.0,\n",
       " 70.0,\n",
       " 482.0,\n",
       " 166.0,\n",
       " 272.0,\n",
       " 471.0,\n",
       " 256.0,\n",
       " 21.0,\n",
       " 16.0,\n",
       " 281.0,\n",
       " 198.0,\n",
       " 355.0,\n",
       " 167.0,\n",
       " 23.0,\n",
       " 69.0,\n",
       " 319.0,\n",
       " 230.0,\n",
       " 267.0,\n",
       " 140.0,\n",
       " 456.0,\n",
       " 54.0,\n",
       " 80.0,\n",
       " 418.0]"
      ]
     },
     "execution_count": 30,
     "metadata": {},
     "output_type": "execute_result"
    }
   ],
   "source": [
    "x2"
   ]
  },
  {
   "cell_type": "code",
   "execution_count": 59,
   "metadata": {},
   "outputs": [
    {
     "data": {
      "text/plain": [
       "500"
      ]
     },
     "execution_count": 59,
     "metadata": {},
     "output_type": "execute_result"
    }
   ],
   "source": [
    "len(x2)"
   ]
  },
  {
   "cell_type": "code",
   "execution_count": 11,
   "metadata": {
    "scrolled": true
   },
   "outputs": [
    {
     "data": {
      "text/plain": [
       "0.8660254037844386"
      ]
     },
     "execution_count": 11,
     "metadata": {},
     "output_type": "execute_result"
    }
   ],
   "source": [
    "np.sqrt(.75)"
   ]
  },
  {
   "cell_type": "code",
   "execution_count": 7,
   "metadata": {},
   "outputs": [
    {
     "name": "stdout",
     "output_type": "stream",
     "text": [
      "[-0.82008999 -1.25759354  0.93686871  1.7354863   1.33270526 -0.45897595\n",
      "  0.95075771 -1.52148457  0.36741965  0.13825112 -1.45203956  0.67297768\n",
      "  0.17991813  0.32575264  0.61047718  0.60353267  0.57575467 -0.50758745\n",
      "  0.8396457   0.8396457  -1.39648355 -1.36870555 -1.68815258 -0.78536748\n",
      "  0.03408361  0.38130865 -1.65343008  1.06186973  1.05492523  1.26326025\n",
      "  0.36741965  0.8049232  -0.37564194 -1.41731705 -0.85481249 -1.50759556\n",
      " -0.68119997 -0.945091    0.10352862  0.46464266 -1.19509303  1.10353673\n",
      " -0.76453398  0.13825112 -0.25758542 -1.07009202  1.30492725  1.13825923\n",
      " -1.15342602  1.53409578  0.51325416 -1.50759556 -0.9381465  -0.86175699\n",
      "  0.47853166 -0.25758542  0.18686263  1.54104028 -0.55619896 -0.35480843\n",
      "  0.73547819 -1.59787407  1.04103622 -0.64647747 -0.13952891  1.04798072\n",
      "  0.20075163 -1.16037053  0.88825721  1.15214824 -1.20203753 -0.88953499\n",
      " -0.68814447  1.21464874 -1.05620301 -0.75758948  0.8674237   0.67992218\n",
      "  0.02713911  1.59659629 -0.972869    0.31186364  1.47159527 -0.23675192\n",
      "  0.11741762 -1.20898203  1.15214824 -0.87564599 -0.55619896 -1.68815258\n",
      "  0.56186567  0.17991813  1.7215973   0.20769613 -0.9381465  -0.17425141\n",
      " -0.70203347  0.46464266 -0.32008593  0.61047718 -1.41731705  0.8743682\n",
      " -0.0492504  -0.0700839  -0.51453195 -1.36176105  1.42992827 -0.46592045\n",
      " -0.18814042 -0.82703449 -0.21591842 -0.66731097 -0.59092146  0.58269917\n",
      " -0.17425141 -0.917313   -0.40341994  0.22158513 -0.49369845  0.20769613\n",
      " -1.14648152 -1.03536951 -1.47287306  1.62437429  0.11741762 -0.39647544\n",
      " -1.55620707 -0.33397493  0.04102811 -0.945091    0.15908462 -1.57009607\n",
      "  0.26325214 -0.84092349 -0.70897797  1.54104028  0.42992015 -1.46592856\n",
      "  1.55492928 -0.38258644 -0.68814447 -1.66037458 -0.45203145 -1.31314954\n",
      "  0.40908665 -0.43814244 -1.11175902 -0.32703043  0.53408767 -1.57704057\n",
      "  0.44380916 -0.9381465  -0.10480641 -1.34092755  1.11742573 -1.63259658\n",
      " -1.49370656  0.92297971  0.06880611  0.12436212  0.47853166  1.7285418\n",
      " -1.15342602  0.71464469  0.04797261  0.23547413  1.04103622 -0.77842298\n",
      "  0.92992421 -0.59786596  1.30492725 -0.47980945 -0.945091   -1.23676003\n",
      " -0.80620099 -1.66731908  1.54104028 -0.931202   -1.07703652  0.06880611\n",
      " -1.20203753 -1.05620301 -0.35480843  1.55492928  1.7007638  -1.31314954\n",
      "  0.09658412 -1.68120808  0.63825518  0.17297363 -0.32703043  1.19381524\n",
      " -0.27147442  1.21464874  1.7424308   1.13131473  1.11742573 -0.0631394\n",
      "  1.7354863   0.98548022  0.72158919 -0.09786191 -0.9242575   0.12436212\n",
      "  0.02019461  0.61047718  0.31186364  1.63826329  1.47159527  1.7146528\n",
      "  0.24936313  1.44381727  0.97159122  0.58269917  0.53408767  0.29797464\n",
      "  0.90214621 -0.61869946 -0.0631394   0.54797667  1.41603927 -0.63953297\n",
      " -0.63953297 -1.54231807  1.44381727 -0.43814244  1.65909679 -0.70897797\n",
      " -0.67425547  0.62436618  1.20770424 -0.9103685  -0.45897595  0.45075366\n",
      "  0.02019461  1.25631575 -1.20898203  0.42297565 -0.0284169  -1.37565005\n",
      " -0.50758745  1.52020678  0.8327012  -1.56315157 -0.30619693  0.27714114\n",
      "  0.11047312 -0.71592247 -0.0492504   0.33269714 -1.50759556  0.8118677\n",
      "  0.65214418 -1.27148254 -0.9103685   1.24242675 -0.62564396 -1.01453601\n",
      " -0.44508694 -1.11870352 -1.44509506 -1.58398507  1.09659223 -0.14647341\n",
      " -1.36176105 -0.52147645 -1.54926257  1.55492928  0.14519562  1.7215973\n",
      "  0.92297971 -0.51453195 -1.19509303  1.52715128  1.17992624 -0.00758339\n",
      " -1.70898609  1.35353876  0.23547413 -1.06314751  0.91603521 -0.18119591\n",
      " -0.22980742  0.61742168  0.7910342   1.54798478 -1.43120606 -0.84786799\n",
      "  0.95770221 -1.39648355  1.40215026 -1.08398102  0.8396457   0.18686263\n",
      "  0.10352862  1.02020272 -0.99370251  0.8465902   0.44380916  0.54103217\n",
      " -1.13953702 -0.33397493 -0.37564194 -1.47981756  1.00631372  0.95770221\n",
      "  0.05491711 -0.13258441 -0.15341791  1.40215026 -1.02148051  1.36048326\n",
      "  0.58269917 -0.62564396  0.22852963 -0.16036241 -0.42425344  1.00631372\n",
      " -1.02842501 -1.56315157 -0.25758542  1.41603927  1.6799303  -1.57009607\n",
      " -0.24369642 -0.62564396 -0.36869744  1.7146528   0.14519562  0.74936719\n",
      " -0.86870149  0.37436415 -0.62564396  1.7285418   1.7007638  -1.54926257\n",
      "  0.62436618  1.04798072  0.03408361  0.67297768  1.58270729 -1.54926257\n",
      "  0.72853369 -0.18814042 -1.50759556 -1.36870555  0.31880814  1.45770627\n",
      " -0.69508897 -1.61870758  0.74936719 -1.35481655  0.44380916 -0.77842298\n",
      "  0.15908462 -1.54926257 -1.45898406 -0.0214724   1.13131473 -0.78536748\n",
      "  1.01325822 -0.0214724   1.00631372  1.06186973  0.65214418  0.23547413\n",
      "  1.64520779 -0.972869    0.06880611 -1.20898203 -1.16037053  1.27020475\n",
      "  0.58269917  0.43686466  1.21464874  0.75631169  1.7077083   1.37437226\n",
      " -1.70898609 -0.88953499  1.01325822  0.61047718  1.04798072 -1.64648558\n",
      "  0.25630763  0.13825112 -0.42425344 -0.51453195  0.18686263 -0.81314549\n",
      "  1.06186973 -1.71593059 -0.47286495  0.65214418 -0.73675598  1.64520779\n",
      "  1.7007638  -0.52147645  0.42297565  0.07575061  1.50631778  0.15214012\n",
      "  0.71464469  1.52715128  0.67297768 -1.53537357 -0.17425141 -0.29230793\n",
      "  1.40215026 -1.04925851  0.47158716 -0.34786393 -1.10481452  1.45770627\n",
      " -1.00064701 -1.41731705  1.59659629  1.00631372  1.04798072 -0.84786799\n",
      " -0.17425141 -0.49369845 -1.05620301 -1.26453804  0.23547413  1.14520374\n",
      "  0.31186364 -1.02148051  0.34658615  1.27020475  0.01325011 -1.39648355\n",
      " -1.50065106 -1.31314954 -0.50758745 -1.29926054  1.44381727  1.65909679\n",
      "  0.67297768  1.7146528   1.40215026  1.63131879  0.74242269  0.92992421\n",
      "  1.09659223  0.21464063  1.07575873 -0.53536545  1.24937125  0.59658817\n",
      " -0.25064092  0.70770019  1.01325822 -1.17425953 -0.56314346 -0.45897595\n",
      " -1.41731705  1.01325822 -1.71593059  0.13825112 -0.60481046  1.33270526\n",
      " -0.0770284   0.48547616  0.47158716 -1.59092957  0.24241863  1.42992827\n",
      "  1.40215026  1.19381524  1.28409375 -0.33397493 -1.47287306 -0.88259049\n",
      " -0.67425547 -1.56315157  0.90909071 -0.84786799 -1.58398507  1.49937328\n",
      " -1.13259252 -1.32009404  0.71464469 -1.46592856 -1.19509303  1.24242675\n",
      "  0.02713911 -1.15342602 -0.972869   -1.11175902 -0.66731097  0.11741762\n",
      " -0.57008796 -0.15341791  1.32576076  0.8049232   0.8257567  -1.64648558\n",
      "  0.8743682  -0.0700839 ]\n",
      "\n",
      "[-0.82008999 -1.25759354  0.93686871  1.7354863   1.33270526 -0.45897595\n",
      "  0.95075771 -1.52148457  0.36741965  0.13825112 -1.45203956  0.67297768\n",
      "  0.17991813  0.32575264  0.61047718  0.60353267  0.57575467 -0.50758745\n",
      "  0.8396457   0.8396457  -1.39648355 -1.36870555 -1.68815258 -0.78536748\n",
      "  0.03408361  0.38130865 -1.65343008  1.06186973  1.05492523  1.26326025\n",
      "  0.36741965  0.8049232  -0.37564194 -1.41731705 -0.85481249 -1.50759556\n",
      " -0.68119997 -0.945091    0.10352862  0.46464266 -1.19509303  1.10353673\n",
      " -0.76453398  0.13825112 -0.25758542 -1.07009202  1.30492725  1.13825923\n",
      " -1.15342602  1.53409578  0.51325416 -1.50759556 -0.9381465  -0.86175699\n",
      "  0.47853166 -0.25758542  0.18686263  1.54104028 -0.55619896 -0.35480843\n",
      "  0.73547819 -1.59787407  1.04103622 -0.64647747 -0.13952891  1.04798072\n",
      "  0.20075163 -1.16037053  0.88825721  1.15214824 -1.20203753 -0.88953499\n",
      " -0.68814447  1.21464874 -1.05620301 -0.75758948  0.8674237   0.67992218\n",
      "  0.02713911  1.59659629 -0.972869    0.31186364  1.47159527 -0.23675192\n",
      "  0.11741762 -1.20898203  1.15214824 -0.87564599 -0.55619896 -1.68815258\n",
      "  0.56186567  0.17991813  1.7215973   0.20769613 -0.9381465  -0.17425141\n",
      " -0.70203347  0.46464266 -0.32008593  0.61047718 -1.41731705  0.8743682\n",
      " -0.0492504  -0.0700839  -0.51453195 -1.36176105  1.42992827 -0.46592045\n",
      " -0.18814042 -0.82703449 -0.21591842 -0.66731097 -0.59092146  0.58269917\n",
      " -0.17425141 -0.917313   -0.40341994  0.22158513 -0.49369845  0.20769613\n",
      " -1.14648152 -1.03536951 -1.47287306  1.62437429  0.11741762 -0.39647544\n",
      " -1.55620707 -0.33397493  0.04102811 -0.945091    0.15908462 -1.57009607\n",
      "  0.26325214 -0.84092349 -0.70897797  1.54104028  0.42992015 -1.46592856\n",
      "  1.55492928 -0.38258644 -0.68814447 -1.66037458 -0.45203145 -1.31314954\n",
      "  0.40908665 -0.43814244 -1.11175902 -0.32703043  0.53408767 -1.57704057\n",
      "  0.44380916 -0.9381465  -0.10480641 -1.34092755  1.11742573 -1.63259658\n",
      " -1.49370656  0.92297971  0.06880611  0.12436212  0.47853166  1.7285418\n",
      " -1.15342602  0.71464469  0.04797261  0.23547413  1.04103622 -0.77842298\n",
      "  0.92992421 -0.59786596  1.30492725 -0.47980945 -0.945091   -1.23676003\n",
      " -0.80620099 -1.66731908  1.54104028 -0.931202   -1.07703652  0.06880611\n",
      " -1.20203753 -1.05620301 -0.35480843  1.55492928  1.7007638  -1.31314954\n",
      "  0.09658412 -1.68120808  0.63825518  0.17297363 -0.32703043  1.19381524\n",
      " -0.27147442  1.21464874  1.7424308   1.13131473  1.11742573 -0.0631394\n",
      "  1.7354863   0.98548022  0.72158919 -0.09786191 -0.9242575   0.12436212\n",
      "  0.02019461  0.61047718  0.31186364  1.63826329  1.47159527  1.7146528\n",
      "  0.24936313  1.44381727  0.97159122  0.58269917  0.53408767  0.29797464\n",
      "  0.90214621 -0.61869946 -0.0631394   0.54797667  1.41603927 -0.63953297\n",
      " -0.63953297 -1.54231807  1.44381727 -0.43814244  1.65909679 -0.70897797\n",
      " -0.67425547  0.62436618  1.20770424 -0.9103685  -0.45897595  0.45075366\n",
      "  0.02019461  1.25631575 -1.20898203  0.42297565 -0.0284169  -1.37565005\n",
      " -0.50758745  1.52020678  0.8327012  -1.56315157 -0.30619693  0.27714114\n",
      "  0.11047312 -0.71592247 -0.0492504   0.33269714 -1.50759556  0.8118677\n",
      "  0.65214418 -1.27148254 -0.9103685   1.24242675 -0.62564396 -1.01453601\n",
      " -0.44508694 -1.11870352 -1.44509506 -1.58398507  1.09659223 -0.14647341\n",
      " -1.36176105 -0.52147645 -1.54926257  1.55492928  0.14519562  1.7215973\n",
      "  0.92297971 -0.51453195 -1.19509303  1.52715128  1.17992624 -0.00758339\n",
      " -1.70898609  1.35353876  0.23547413 -1.06314751  0.91603521 -0.18119591\n",
      " -0.22980742  0.61742168  0.7910342   1.54798478 -1.43120606 -0.84786799\n",
      "  0.95770221 -1.39648355  1.40215026 -1.08398102  0.8396457   0.18686263\n",
      "  0.10352862  1.02020272 -0.99370251  0.8465902   0.44380916  0.54103217\n",
      " -1.13953702 -0.33397493 -0.37564194 -1.47981756  1.00631372  0.95770221\n",
      "  0.05491711 -0.13258441 -0.15341791  1.40215026 -1.02148051  1.36048326\n",
      "  0.58269917 -0.62564396  0.22852963 -0.16036241 -0.42425344  1.00631372\n",
      " -1.02842501 -1.56315157 -0.25758542  1.41603927  1.6799303  -1.57009607\n",
      " -0.24369642 -0.62564396 -0.36869744  1.7146528   0.14519562  0.74936719\n",
      " -0.86870149  0.37436415 -0.62564396  1.7285418   1.7007638  -1.54926257\n",
      "  0.62436618  1.04798072  0.03408361  0.67297768  1.58270729 -1.54926257\n",
      "  0.72853369 -0.18814042 -1.50759556 -1.36870555  0.31880814  1.45770627\n",
      " -0.69508897 -1.61870758  0.74936719 -1.35481655  0.44380916 -0.77842298\n",
      "  0.15908462 -1.54926257 -1.45898406 -0.0214724   1.13131473 -0.78536748\n",
      "  1.01325822 -0.0214724   1.00631372  1.06186973  0.65214418  0.23547413\n",
      "  1.64520779 -0.972869    0.06880611 -1.20898203 -1.16037053  1.27020475\n",
      "  0.58269917  0.43686466  1.21464874  0.75631169  1.7077083   1.37437226\n",
      " -1.70898609 -0.88953499  1.01325822  0.61047718  1.04798072 -1.64648558\n",
      "  0.25630763  0.13825112 -0.42425344 -0.51453195  0.18686263 -0.81314549\n",
      "  1.06186973 -1.71593059 -0.47286495  0.65214418 -0.73675598  1.64520779\n",
      "  1.7007638  -0.52147645  0.42297565  0.07575061  1.50631778  0.15214012\n",
      "  0.71464469  1.52715128  0.67297768 -1.53537357 -0.17425141 -0.29230793\n",
      "  1.40215026 -1.04925851  0.47158716 -0.34786393 -1.10481452  1.45770627\n",
      " -1.00064701 -1.41731705  1.59659629  1.00631372  1.04798072 -0.84786799\n",
      " -0.17425141 -0.49369845 -1.05620301 -1.26453804  0.23547413  1.14520374\n",
      "  0.31186364 -1.02148051  0.34658615  1.27020475  0.01325011 -1.39648355\n",
      " -1.50065106 -1.31314954 -0.50758745 -1.29926054  1.44381727  1.65909679\n",
      "  0.67297768  1.7146528   1.40215026  1.63131879  0.74242269  0.92992421\n",
      "  1.09659223  0.21464063  1.07575873 -0.53536545  1.24937125  0.59658817\n",
      " -0.25064092  0.70770019  1.01325822 -1.17425953 -0.56314346 -0.45897595\n",
      " -1.41731705  1.01325822 -1.71593059  0.13825112 -0.60481046  1.33270526\n",
      " -0.0770284   0.48547616  0.47158716 -1.59092957  0.24241863  1.42992827\n",
      "  1.40215026  1.19381524  1.28409375 -0.33397493 -1.47287306 -0.88259049\n",
      " -0.67425547 -1.56315157  0.90909071 -0.84786799 -1.58398507  1.49937328\n",
      " -1.13259252 -1.32009404  0.71464469 -1.46592856 -1.19509303  1.24242675\n",
      "  0.02713911 -1.15342602 -0.972869   -1.11175902 -0.66731097  0.11741762\n",
      " -0.57008796 -0.15341791  1.32576076  0.8049232   0.8257567  -1.64648558\n",
      "  0.8743682  -0.0700839 ]\n"
     ]
    }
   ],
   "source": [
    "import pandas as pd\n",
    "import numpy as np\n",
    "import math\n",
    "from random import *\n",
    "from scipy.stats import stats\n",
    "from sklearn.linear_model import LinearRegression\n",
    "\n",
    "def solution():\n",
    "    x1 =[]\n",
    "    x2 =[]\n",
    "    er = [] \n",
    "    p1 = []\n",
    "\n",
    "    for i in range(500):\n",
    "        x = randint(0,500)\n",
    "        x1.append(x)\n",
    "        s = 1\n",
    "        mean = 0\n",
    "        z = (x - mean)/s\n",
    "        x2.append(z)\n",
    "\n",
    "\n",
    "    z1 = stats.zscore(x1)\n",
    "    z2 = stats.zscore(x2)\n",
    "    print(z1)\n",
    "    print()\n",
    "    print(z2)\n",
    "    for i in z1:\n",
    "        s = math.sqrt(.75)\n",
    "        mean = 0.5\n",
    "        x2 = i*s + mean\n",
    "        er.append(x2)\n",
    "    print()\n",
    "    print(er)\n",
    "\n",
    "    X = np.array(z1)\n",
    "    X = X.reshape(-1,1)\n",
    "    err = np.array(er)\n",
    "    err = err.reshape(-1,1)\n",
    "    \n",
    "    y = -1 + 0.5*X + err\n",
    "#     print(y)\n",
    "\n",
    "#     lr = LinearRegression()\n",
    "#     lr.fit(X,y)\n",
    "\n",
    "#     cfs = lr.coef(y,X)\n",
    "#     inct = lr.incpt(y,X)\n",
    "#     p1 = print(cfs,inct)\n",
    "#     p1.to_csv('output/output.csv')\n",
    "\n",
    "\n",
    "    from sklearn.model_selection import train_test_split as tts\n",
    "    from sklearn.preprocessing import StandardScaler \n",
    "    \n",
    "    ss = StandardScaler()\n",
    "    X = ss.fit_transform(X)\n",
    "\n",
    "    X_train,X_test,y_train,y_test = tts(X,y,test_size = .3,random_state = 21)\n",
    "    lr1 = LinearRegression()\n",
    "    lr1.fit(X_train,y_train)\n",
    "    ypred = lr1.predict(X_test)\n",
    "\n",
    "    from sklearn.metrics import mean_squared_error as mse\n",
    "    p1.extend([mse(ypred,y_test)])\n",
    "    df = pd.DataFrame(p1,columns=['MSE'])\n",
    "    df.to_csv('output.csv')\n",
    "\n",
    "solution()"
   ]
  },
  {
   "cell_type": "code",
   "execution_count": 6,
   "metadata": {},
   "outputs": [
    {
     "data": {
      "text/plain": [
       "'C:\\\\Users\\\\Dell\\\\Desktop\\\\MyPractice Colab\\\\Python PROGRAMS\\\\PythonBasics'"
      ]
     },
     "execution_count": 6,
     "metadata": {},
     "output_type": "execute_result"
    }
   ],
   "source": [
    "import os\n",
    "os.getcwd()"
   ]
  },
  {
   "cell_type": "code",
   "execution_count": 1,
   "metadata": {},
   "outputs": [
    {
     "data": {
      "image/png": "[encoded data removed]",
      "text/plain": [
       "<Figure size 432x288 with 1 Axes>"
      ]
     },
     "metadata": {
      "needs_background": "light"
     },
     "output_type": "display_data"
    }
   ],
   "source": [
    "import numpy\n",
    "import matplotlib.pyplot as plt\n",
    "\n",
    "x = [1,2,3,5,6,7,8,9,10,12,13,14,15,16,18,19,21,22]\n",
    "y = [100,90,80,60,60,55,60,65,70,70,75,76,78,79,90,99,99,100]\n",
    "\n",
    "mymodel = numpy.poly1d(numpy.polyfit(x, y, 3))\n",
    "\n",
    "myline = numpy.linspace(1, 22, 100)\n",
    "\n",
    "plt.scatter(x, y)\n",
    "plt.plot(myline, mymodel(myline))\n",
    "plt.show()"
   ]
  },
  {
   "cell_type": "code",
   "execution_count": null,
   "metadata": {},
   "outputs": [],
   "source": []
  },
  {
   "cell_type": "code",
   "execution_count": 124,
   "metadata": {},
   "outputs": [],
   "source": [
    "# Problem 11\n",
    "import numpy as np\n",
    "import pandas as pd\n",
    "from scipy.stats import norm, stats\n",
    "from sklearn.linear_model import LinearRegression\n",
    "from sklearn.metrics import r2_score\n",
    "import sys\n",
    "import math\n",
    "dfwg = pd.read_csv(r'C:\\Users\\Dell\\Desktop\\DataFolder\\wages.csv')"
   ]
  },
  {
   "cell_type": "code",
   "execution_count": 125,
   "metadata": {
    "scrolled": false
   },
   "outputs": [
    {
     "data": {
      "text/html": [
       "<div>\n",
       "<style scoped>\n",
       "    .dataframe tbody tr th:only-of-type {\n",
       "        vertical-align: middle;\n",
       "    }\n",
       "\n",
       "    .dataframe tbody tr th {\n",
       "        vertical-align: top;\n",
       "    }\n",
       "\n",
       "    .dataframe thead th {\n",
       "        text-align: right;\n",
       "    }\n",
       "</style>\n",
       "<table border=\"1\" class=\"dataframe\">\n",
       "  <thead>\n",
       "    <tr style=\"text-align: right;\">\n",
       "      <th></th>\n",
       "      <th>year</th>\n",
       "      <th>age</th>\n",
       "      <th>sex</th>\n",
       "      <th>maritl</th>\n",
       "      <th>race</th>\n",
       "      <th>education</th>\n",
       "      <th>region</th>\n",
       "      <th>jobclass</th>\n",
       "      <th>health</th>\n",
       "      <th>health_ins</th>\n",
       "      <th>logwage</th>\n",
       "      <th>wage</th>\n",
       "    </tr>\n",
       "  </thead>\n",
       "  <tbody>\n",
       "    <tr>\n",
       "      <th>0</th>\n",
       "      <td>2006</td>\n",
       "      <td>18</td>\n",
       "      <td>1. Male</td>\n",
       "      <td>1. Never Married</td>\n",
       "      <td>1. White</td>\n",
       "      <td>1. &lt; HS Grad</td>\n",
       "      <td>2. Middle Atlantic</td>\n",
       "      <td>1. Industrial</td>\n",
       "      <td>1. &lt;=Good</td>\n",
       "      <td>2. No</td>\n",
       "      <td>4.318063</td>\n",
       "      <td>75.043154</td>\n",
       "    </tr>\n",
       "    <tr>\n",
       "      <th>1</th>\n",
       "      <td>2004</td>\n",
       "      <td>24</td>\n",
       "      <td>1. Male</td>\n",
       "      <td>1. Never Married</td>\n",
       "      <td>1. White</td>\n",
       "      <td>4. College Grad</td>\n",
       "      <td>2. Middle Atlantic</td>\n",
       "      <td>2. Information</td>\n",
       "      <td>2. &gt;=Very Good</td>\n",
       "      <td>2. No</td>\n",
       "      <td>4.255273</td>\n",
       "      <td>70.476020</td>\n",
       "    </tr>\n",
       "    <tr>\n",
       "      <th>2</th>\n",
       "      <td>2003</td>\n",
       "      <td>45</td>\n",
       "      <td>1. Male</td>\n",
       "      <td>2. Married</td>\n",
       "      <td>1. White</td>\n",
       "      <td>3. Some College</td>\n",
       "      <td>2. Middle Atlantic</td>\n",
       "      <td>1. Industrial</td>\n",
       "      <td>1. &lt;=Good</td>\n",
       "      <td>1. Yes</td>\n",
       "      <td>4.875061</td>\n",
       "      <td>130.982177</td>\n",
       "    </tr>\n",
       "    <tr>\n",
       "      <th>3</th>\n",
       "      <td>2003</td>\n",
       "      <td>43</td>\n",
       "      <td>1. Male</td>\n",
       "      <td>2. Married</td>\n",
       "      <td>3. Asian</td>\n",
       "      <td>4. College Grad</td>\n",
       "      <td>2. Middle Atlantic</td>\n",
       "      <td>2. Information</td>\n",
       "      <td>2. &gt;=Very Good</td>\n",
       "      <td>1. Yes</td>\n",
       "      <td>5.041393</td>\n",
       "      <td>154.685293</td>\n",
       "    </tr>\n",
       "    <tr>\n",
       "      <th>4</th>\n",
       "      <td>2005</td>\n",
       "      <td>50</td>\n",
       "      <td>1. Male</td>\n",
       "      <td>4. Divorced</td>\n",
       "      <td>1. White</td>\n",
       "      <td>2. HS Grad</td>\n",
       "      <td>2. Middle Atlantic</td>\n",
       "      <td>2. Information</td>\n",
       "      <td>1. &lt;=Good</td>\n",
       "      <td>1. Yes</td>\n",
       "      <td>4.318063</td>\n",
       "      <td>75.043154</td>\n",
       "    </tr>\n",
       "    <tr>\n",
       "      <th>...</th>\n",
       "      <td>...</td>\n",
       "      <td>...</td>\n",
       "      <td>...</td>\n",
       "      <td>...</td>\n",
       "      <td>...</td>\n",
       "      <td>...</td>\n",
       "      <td>...</td>\n",
       "      <td>...</td>\n",
       "      <td>...</td>\n",
       "      <td>...</td>\n",
       "      <td>...</td>\n",
       "      <td>...</td>\n",
       "    </tr>\n",
       "    <tr>\n",
       "      <th>2995</th>\n",
       "      <td>2008</td>\n",
       "      <td>44</td>\n",
       "      <td>1. Male</td>\n",
       "      <td>2. Married</td>\n",
       "      <td>1. White</td>\n",
       "      <td>3. Some College</td>\n",
       "      <td>2. Middle Atlantic</td>\n",
       "      <td>1. Industrial</td>\n",
       "      <td>2. &gt;=Very Good</td>\n",
       "      <td>1. Yes</td>\n",
       "      <td>5.041393</td>\n",
       "      <td>154.685293</td>\n",
       "    </tr>\n",
       "    <tr>\n",
       "      <th>2996</th>\n",
       "      <td>2007</td>\n",
       "      <td>30</td>\n",
       "      <td>1. Male</td>\n",
       "      <td>2. Married</td>\n",
       "      <td>1. White</td>\n",
       "      <td>2. HS Grad</td>\n",
       "      <td>2. Middle Atlantic</td>\n",
       "      <td>1. Industrial</td>\n",
       "      <td>2. &gt;=Very Good</td>\n",
       "      <td>2. No</td>\n",
       "      <td>4.602060</td>\n",
       "      <td>99.689464</td>\n",
       "    </tr>\n",
       "    <tr>\n",
       "      <th>2997</th>\n",
       "      <td>2005</td>\n",
       "      <td>27</td>\n",
       "      <td>1. Male</td>\n",
       "      <td>2. Married</td>\n",
       "      <td>2. Black</td>\n",
       "      <td>1. &lt; HS Grad</td>\n",
       "      <td>2. Middle Atlantic</td>\n",
       "      <td>1. Industrial</td>\n",
       "      <td>1. &lt;=Good</td>\n",
       "      <td>2. No</td>\n",
       "      <td>4.193125</td>\n",
       "      <td>66.229408</td>\n",
       "    </tr>\n",
       "    <tr>\n",
       "      <th>2998</th>\n",
       "      <td>2005</td>\n",
       "      <td>27</td>\n",
       "      <td>1. Male</td>\n",
       "      <td>1. Never Married</td>\n",
       "      <td>1. White</td>\n",
       "      <td>3. Some College</td>\n",
       "      <td>2. Middle Atlantic</td>\n",
       "      <td>1. Industrial</td>\n",
       "      <td>2. &gt;=Very Good</td>\n",
       "      <td>1. Yes</td>\n",
       "      <td>4.477121</td>\n",
       "      <td>87.981033</td>\n",
       "    </tr>\n",
       "    <tr>\n",
       "      <th>2999</th>\n",
       "      <td>2009</td>\n",
       "      <td>55</td>\n",
       "      <td>1. Male</td>\n",
       "      <td>5. Separated</td>\n",
       "      <td>1. White</td>\n",
       "      <td>2. HS Grad</td>\n",
       "      <td>2. Middle Atlantic</td>\n",
       "      <td>1. Industrial</td>\n",
       "      <td>1. &lt;=Good</td>\n",
       "      <td>1. Yes</td>\n",
       "      <td>4.505150</td>\n",
       "      <td>90.481913</td>\n",
       "    </tr>\n",
       "  </tbody>\n",
       "</table>\n",
       "<p>3000 rows × 12 columns</p>\n",
       "</div>"
      ],
      "text/plain": [
       "      year  age      sex            maritl      race        education  \\\n",
       "0     2006   18  1. Male  1. Never Married  1. White     1. < HS Grad   \n",
       "1     2004   24  1. Male  1. Never Married  1. White  4. College Grad   \n",
       "2     2003   45  1. Male        2. Married  1. White  3. Some College   \n",
       "3     2003   43  1. Male        2. Married  3. Asian  4. College Grad   \n",
       "4     2005   50  1. Male       4. Divorced  1. White       2. HS Grad   \n",
       "...    ...  ...      ...               ...       ...              ...   \n",
       "2995  2008   44  1. Male        2. Married  1. White  3. Some College   \n",
       "2996  2007   30  1. Male        2. Married  1. White       2. HS Grad   \n",
       "2997  2005   27  1. Male        2. Married  2. Black     1. < HS Grad   \n",
       "2998  2005   27  1. Male  1. Never Married  1. White  3. Some College   \n",
       "2999  2009   55  1. Male      5. Separated  1. White       2. HS Grad   \n",
       "\n",
       "                  region        jobclass          health health_ins   logwage  \\\n",
       "0     2. Middle Atlantic   1. Industrial       1. <=Good      2. No  4.318063   \n",
       "1     2. Middle Atlantic  2. Information  2. >=Very Good      2. No  4.255273   \n",
       "2     2. Middle Atlantic   1. Industrial       1. <=Good     1. Yes  4.875061   \n",
       "3     2. Middle Atlantic  2. Information  2. >=Very Good     1. Yes  5.041393   \n",
       "4     2. Middle Atlantic  2. Information       1. <=Good     1. Yes  4.318063   \n",
       "...                  ...             ...             ...        ...       ...   \n",
       "2995  2. Middle Atlantic   1. Industrial  2. >=Very Good     1. Yes  5.041393   \n",
       "2996  2. Middle Atlantic   1. Industrial  2. >=Very Good      2. No  4.602060   \n",
       "2997  2. Middle Atlantic   1. Industrial       1. <=Good      2. No  4.193125   \n",
       "2998  2. Middle Atlantic   1. Industrial  2. >=Very Good     1. Yes  4.477121   \n",
       "2999  2. Middle Atlantic   1. Industrial       1. <=Good     1. Yes  4.505150   \n",
       "\n",
       "            wage  \n",
       "0      75.043154  \n",
       "1      70.476020  \n",
       "2     130.982177  \n",
       "3     154.685293  \n",
       "4      75.043154  \n",
       "...          ...  \n",
       "2995  154.685293  \n",
       "2996   99.689464  \n",
       "2997   66.229408  \n",
       "2998   87.981033  \n",
       "2999   90.481913  \n",
       "\n",
       "[3000 rows x 12 columns]"
      ]
     },
     "execution_count": 125,
     "metadata": {},
     "output_type": "execute_result"
    }
   ],
   "source": [
    "dfwg"
   ]
  },
  {
   "cell_type": "code",
   "execution_count": 129,
   "metadata": {},
   "outputs": [
    {
     "data": {
      "text/plain": [
       "0       18\n",
       "1       24\n",
       "2       45\n",
       "3       43\n",
       "4       50\n",
       "        ..\n",
       "2995    44\n",
       "2996    30\n",
       "2997    27\n",
       "2998    27\n",
       "2999    55\n",
       "Name: age, Length: 3000, dtype: int64"
      ]
     },
     "execution_count": 129,
     "metadata": {},
     "output_type": "execute_result"
    }
   ],
   "source": [
    "dfwg.age"
   ]
  },
  {
   "cell_type": "code",
   "execution_count": 155,
   "metadata": {},
   "outputs": [
    {
     "data": {
      "text/plain": [
       "array([[ 1., 18.],\n",
       "       [ 1., 24.],\n",
       "       [ 1., 45.],\n",
       "       ...,\n",
       "       [ 1., 27.],\n",
       "       [ 1., 27.],\n",
       "       [ 1., 55.]])"
      ]
     },
     "execution_count": 155,
     "metadata": {},
     "output_type": "execute_result"
    }
   ],
   "source": [
    "from sklearn.preprocessing import PolynomialFeatures\n",
    "x1 = dfwg[['age']]\n",
    "pf1 = PolynomialFeatures(degree = 1)\n",
    "pft1 = pf1.fit_transform(x1)\n",
    "pft1"
   ]
  },
  {
   "cell_type": "code",
   "execution_count": 159,
   "metadata": {},
   "outputs": [
    {
     "data": {
      "text/plain": [
       "numpy.ndarray"
      ]
     },
     "execution_count": 159,
     "metadata": {},
     "output_type": "execute_result"
    }
   ],
   "source": [
    "pf2 = PolynomialFeatures(degree = 2)\n",
    "pft2 = pf2.fit_transform(x1)\n",
    "type(pft2)"
   ]
  },
  {
   "cell_type": "code",
   "execution_count": 158,
   "metadata": {},
   "outputs": [
    {
     "data": {
      "text/plain": [
       "(3000, 4)"
      ]
     },
     "execution_count": 158,
     "metadata": {},
     "output_type": "execute_result"
    }
   ],
   "source": [
    "pf3 = PolynomialFeatures(degree = 3)\n",
    "pft3 = pf3.fit_transform(x1)\n",
    "pft3.shape"
   ]
  },
  {
   "cell_type": "code",
   "execution_count": 157,
   "metadata": {},
   "outputs": [
    {
     "data": {
      "text/plain": [
       "(3000, 5)"
      ]
     },
     "execution_count": 157,
     "metadata": {},
     "output_type": "execute_result"
    }
   ],
   "source": [
    "pf4 = PolynomialFeatures(degree = 4)\n",
    "pft4 = pf4.fit_transform(x1)\n",
    "np4 = np.array(pft4)\n",
    "np4.shape"
   ]
  },
  {
   "cell_type": "code",
   "execution_count": 163,
   "metadata": {},
   "outputs": [],
   "source": [
    "y = dfwg[['wage']]"
   ]
  },
  {
   "cell_type": "code",
   "execution_count": 176,
   "metadata": {},
   "outputs": [],
   "source": [
    "p_g = {\n",
    "    'fit_intercept' : [True,False],\n",
    "    'normalize' : [True,False],\n",
    "    'copy_X' : [True,False],\n",
    "    'n_jobs' : [1, -1]\n",
    "    }"
   ]
  },
  {
   "cell_type": "code",
   "execution_count": 178,
   "metadata": {},
   "outputs": [
    {
     "data": {
      "text/plain": [
       "GridSearchCV(cv=5, estimator=LinearRegression(),\n",
       "             param_grid={'copy_X': [True, False],\n",
       "                         'fit_intercept': [True, False], 'n_jobs': [1, -1],\n",
       "                         'normalize': [True, False]})"
      ]
     },
     "execution_count": 178,
     "metadata": {},
     "output_type": "execute_result"
    }
   ],
   "source": [
    "lr1 = LinearRegression()\n",
    "lr1.fit(pft1,y)\n",
    "from sklearn.model_selection import GridSearchCV\n",
    "gscv1 = GridSearchCV(estimator = lr1, param_grid = p_g, cv=5)\n",
    "gscv1.fit(pft1,y)"
   ]
  },
  {
   "cell_type": "code",
   "execution_count": 179,
   "metadata": {},
   "outputs": [
    {
     "data": {
      "text/plain": [
       "0.03710503263872802"
      ]
     },
     "execution_count": 179,
     "metadata": {},
     "output_type": "execute_result"
    }
   ],
   "source": [
    "gscv1.best_score_"
   ]
  },
  {
   "cell_type": "code",
   "execution_count": 189,
   "metadata": {},
   "outputs": [
    {
     "data": {
      "text/plain": [
       "GridSearchCV(cv=5, estimator=LinearRegression(),\n",
       "             param_grid={'copy_X': [True, False],\n",
       "                         'fit_intercept': [True, False], 'n_jobs': [1, -1],\n",
       "                         'normalize': [True, False]})"
      ]
     },
     "execution_count": 189,
     "metadata": {},
     "output_type": "execute_result"
    }
   ],
   "source": [
    "lr2 = LinearRegression()\n",
    "lr2.fit(pft2,y)\n",
    "from sklearn.model_selection import GridSearchCV\n",
    "gscv2 = GridSearchCV(estimator = lr2, param_grid = p_g, cv=5)\n",
    "gscv2.fit(pft2,y)"
   ]
  },
  {
   "cell_type": "code",
   "execution_count": 190,
   "metadata": {},
   "outputs": [
    {
     "data": {
      "text/plain": [
       "0.08024722002059456"
      ]
     },
     "execution_count": 190,
     "metadata": {},
     "output_type": "execute_result"
    }
   ],
   "source": [
    "gscv2.best_score_"
   ]
  },
  {
   "cell_type": "code",
   "execution_count": 191,
   "metadata": {},
   "outputs": [
    {
     "data": {
      "text/plain": [
       "GridSearchCV(cv=5, estimator=LinearRegression(),\n",
       "             param_grid={'copy_X': [True, False],\n",
       "                         'fit_intercept': [True, False], 'n_jobs': [1, -1],\n",
       "                         'normalize': [True, False]})"
      ]
     },
     "execution_count": 191,
     "metadata": {},
     "output_type": "execute_result"
    }
   ],
   "source": [
    "lr3 = LinearRegression()\n",
    "lr3.fit(pft3,y)\n",
    "from sklearn.model_selection import GridSearchCV\n",
    "gscv3 = GridSearchCV(estimator = lr3, param_grid = p_g, cv=5)\n",
    "gscv3.fit(pft3,y)"
   ]
  },
  {
   "cell_type": "code",
   "execution_count": 192,
   "metadata": {},
   "outputs": [
    {
     "data": {
      "text/plain": [
       "0.0831246293392863"
      ]
     },
     "execution_count": 192,
     "metadata": {},
     "output_type": "execute_result"
    }
   ],
   "source": [
    "gscv3.best_score_"
   ]
  },
  {
   "cell_type": "code",
   "execution_count": 193,
   "metadata": {},
   "outputs": [
    {
     "data": {
      "text/plain": [
       "GridSearchCV(cv=5, estimator=LinearRegression(),\n",
       "             param_grid={'copy_X': [True, False],\n",
       "                         'fit_intercept': [True, False], 'n_jobs': [1, -1],\n",
       "                         'normalize': [True, False]})"
      ]
     },
     "execution_count": 193,
     "metadata": {},
     "output_type": "execute_result"
    }
   ],
   "source": [
    "lr4 = LinearRegression()\n",
    "lr4.fit(pft4,y)\n",
    "gscv4 = GridSearchCV(estimator = lr4, param_grid = p_g, cv=5)\n",
    "gscv4.fit(pft4,y)"
   ]
  },
  {
   "cell_type": "code",
   "execution_count": 194,
   "metadata": {},
   "outputs": [
    {
     "data": {
      "text/plain": [
       "0.08355308130293108"
      ]
     },
     "execution_count": 194,
     "metadata": {},
     "output_type": "execute_result"
    }
   ],
   "source": [
    "gscv4.best_score_"
   ]
  },
  {
   "cell_type": "code",
   "execution_count": 197,
   "metadata": {},
   "outputs": [
    {
     "data": {
      "text/plain": [
       "{'mean_fit_time': array([0.00599709, 0.00659652, 0.00439773, 0.00399799, 0.00359778,\n",
       "        0.00419774, 0.00479684, 0.00519652, 0.00539641, 0.00439725,\n",
       "        0.00439754, 0.00459766, 0.00439763, 0.00419745, 0.00459743,\n",
       "        0.00479655]),\n",
       " 'std_fit_time': array([0.00063203, 0.00049014, 0.00048922, 0.00063151, 0.00048905,\n",
       "        0.00074778, 0.00040011, 0.00039961, 0.00119979, 0.00079949,\n",
       "        0.00101968, 0.0004893 , 0.00079966, 0.00074747, 0.00119913,\n",
       "        0.00039949]),\n",
       " 'mean_score_time': array([0.00419645, 0.00559568, 0.00319781, 0.00259786, 0.002598  ,\n",
       "        0.00339818, 0.00359793, 0.0031981 , 0.00379786, 0.00319819,\n",
       "        0.00339766, 0.00299778, 0.00359712, 0.00299826, 0.0023983 ,\n",
       "        0.00299773]),\n",
       " 'std_score_time': array([1.16523092e-03, 2.72674327e-03, 4.00710599e-04, 4.89531705e-04,\n",
       "        7.99632106e-04, 8.00371745e-04, 7.99453658e-04, 7.48022437e-04,\n",
       "        3.99757182e-04, 3.99923737e-04, 4.89045696e-04, 6.32410062e-04,\n",
       "        4.89959835e-04, 6.32259561e-04, 4.89551143e-04, 6.84390073e-07]),\n",
       " 'param_copy_X': masked_array(data=[True, True, True, True, True, True, True, True, False,\n",
       "                    False, False, False, False, False, False, False],\n",
       "              mask=[False, False, False, False, False, False, False, False,\n",
       "                    False, False, False, False, False, False, False, False],\n",
       "        fill_value='?',\n",
       "             dtype=object),\n",
       " 'param_fit_intercept': masked_array(data=[True, True, True, True, False, False, False, False,\n",
       "                    True, True, True, True, False, False, False, False],\n",
       "              mask=[False, False, False, False, False, False, False, False,\n",
       "                    False, False, False, False, False, False, False, False],\n",
       "        fill_value='?',\n",
       "             dtype=object),\n",
       " 'param_n_jobs': masked_array(data=[1, 1, -1, -1, 1, 1, -1, -1, 1, 1, -1, -1, 1, 1, -1, -1],\n",
       "              mask=[False, False, False, False, False, False, False, False,\n",
       "                    False, False, False, False, False, False, False, False],\n",
       "        fill_value='?',\n",
       "             dtype=object),\n",
       " 'param_normalize': masked_array(data=[True, False, True, False, True, False, True, False,\n",
       "                    True, False, True, False, True, False, True, False],\n",
       "              mask=[False, False, False, False, False, False, False, False,\n",
       "                    False, False, False, False, False, False, False, False],\n",
       "        fill_value='?',\n",
       "             dtype=object),\n",
       " 'params': [{'copy_X': True,\n",
       "   'fit_intercept': True,\n",
       "   'n_jobs': 1,\n",
       "   'normalize': True},\n",
       "  {'copy_X': True, 'fit_intercept': True, 'n_jobs': 1, 'normalize': False},\n",
       "  {'copy_X': True, 'fit_intercept': True, 'n_jobs': -1, 'normalize': True},\n",
       "  {'copy_X': True, 'fit_intercept': True, 'n_jobs': -1, 'normalize': False},\n",
       "  {'copy_X': True, 'fit_intercept': False, 'n_jobs': 1, 'normalize': True},\n",
       "  {'copy_X': True, 'fit_intercept': False, 'n_jobs': 1, 'normalize': False},\n",
       "  {'copy_X': True, 'fit_intercept': False, 'n_jobs': -1, 'normalize': True},\n",
       "  {'copy_X': True, 'fit_intercept': False, 'n_jobs': -1, 'normalize': False},\n",
       "  {'copy_X': False, 'fit_intercept': True, 'n_jobs': 1, 'normalize': True},\n",
       "  {'copy_X': False, 'fit_intercept': True, 'n_jobs': 1, 'normalize': False},\n",
       "  {'copy_X': False, 'fit_intercept': True, 'n_jobs': -1, 'normalize': True},\n",
       "  {'copy_X': False, 'fit_intercept': True, 'n_jobs': -1, 'normalize': False},\n",
       "  {'copy_X': False, 'fit_intercept': False, 'n_jobs': 1, 'normalize': True},\n",
       "  {'copy_X': False, 'fit_intercept': False, 'n_jobs': 1, 'normalize': False},\n",
       "  {'copy_X': False, 'fit_intercept': False, 'n_jobs': -1, 'normalize': True},\n",
       "  {'copy_X': False, 'fit_intercept': False, 'n_jobs': -1, 'normalize': False}],\n",
       " 'split0_test_score': array([0.09159652, 0.09159652, 0.09159652, 0.09159652, 0.09159652,\n",
       "        0.09159652, 0.09159652, 0.09159652, 0.09159652, 0.09159652,\n",
       "        0.09159652, 0.09159652, 0.09159652, 0.09159652, 0.09159652,\n",
       "        0.09159652]),\n",
       " 'split1_test_score': array([0.08229378, 0.08229378, 0.08229378, 0.08229378, 0.08229378,\n",
       "        0.08229378, 0.08229378, 0.08229378, 0.08229378, 0.08229378,\n",
       "        0.08229378, 0.08229378, 0.08229378, 0.08229378, 0.08229378,\n",
       "        0.08229378]),\n",
       " 'split2_test_score': array([0.08585911, 0.08585911, 0.08585911, 0.08585911, 0.08585911,\n",
       "        0.08585911, 0.08585911, 0.08585911, 0.08585911, 0.08585911,\n",
       "        0.08585911, 0.08585911, 0.08585911, 0.08585911, 0.08585911,\n",
       "        0.08585911]),\n",
       " 'split3_test_score': array([0.07300298, 0.07300298, 0.07300298, 0.07300298, 0.07300298,\n",
       "        0.07300298, 0.07300298, 0.07300298, 0.07300298, 0.07300298,\n",
       "        0.07300298, 0.07300298, 0.07300298, 0.07300298, 0.07300298,\n",
       "        0.07300298]),\n",
       " 'split4_test_score': array([0.08501302, 0.08501302, 0.08501302, 0.08501302, 0.08501302,\n",
       "        0.08501302, 0.08501302, 0.08501302, 0.08501302, 0.08501302,\n",
       "        0.08501302, 0.08501302, 0.08501302, 0.08501302, 0.08501302,\n",
       "        0.08501302]),\n",
       " 'mean_test_score': array([0.08355308, 0.08355308, 0.08355308, 0.08355308, 0.08355308,\n",
       "        0.08355308, 0.08355308, 0.08355308, 0.08355308, 0.08355308,\n",
       "        0.08355308, 0.08355308, 0.08355308, 0.08355308, 0.08355308,\n",
       "        0.08355308]),\n",
       " 'std_test_score': array([0.00608336, 0.00608336, 0.00608336, 0.00608336, 0.00608336,\n",
       "        0.00608336, 0.00608336, 0.00608336, 0.00608336, 0.00608336,\n",
       "        0.00608336, 0.00608336, 0.00608336, 0.00608336, 0.00608336,\n",
       "        0.00608336]),\n",
       " 'rank_test_score': array([13,  9, 13,  9,  1,  1,  1,  1, 13,  9, 13,  9,  1,  1,  1,  1])}"
      ]
     },
     "execution_count": 197,
     "metadata": {},
     "output_type": "execute_result"
    }
   ],
   "source": [
    "gscv4.cv_results_"
   ]
  },
  {
   "cell_type": "code",
   "execution_count": 204,
   "metadata": {},
   "outputs": [],
   "source": [
    "a = np.random.randn(500,1)"
   ]
  },
  {
   "cell_type": "code",
   "execution_count": 205,
   "metadata": {},
   "outputs": [
    {
     "data": {
      "text/plain": [
       "(500, 1)"
      ]
     },
     "execution_count": 205,
     "metadata": {},
     "output_type": "execute_result"
    }
   ],
   "source": [
    "a.shape"
   ]
  },
  {
   "cell_type": "code",
   "execution_count": 207,
   "metadata": {},
   "outputs": [
    {
     "data": {
      "text/plain": [
       "array([100, 101, 102, 103, 104, 105, 106, 107, 108, 109, 110, 111, 112,\n",
       "       113, 114, 115, 116, 117, 118, 119, 120, 121, 122, 123, 124, 125,\n",
       "       126, 127, 128, 129, 130, 131, 132, 133, 134, 135, 136, 137, 138,\n",
       "       139, 140, 141, 142, 143, 144, 145, 146, 147, 148, 149, 150, 151,\n",
       "       152, 153, 154, 155, 156, 157, 158, 159, 160, 161, 162, 163, 164,\n",
       "       165, 166, 167, 168, 169, 170, 171, 172, 173, 174, 175, 176, 177,\n",
       "       178, 179, 180, 181, 182, 183, 184, 185, 186, 187, 188, 189, 190,\n",
       "       191, 192, 193, 194, 195, 196, 197, 198, 199])"
      ]
     },
     "execution_count": 207,
     "metadata": {},
     "output_type": "execute_result"
    }
   ],
   "source": [
    "b = np.arange(100,200)\n",
    "b"
   ]
  },
  {
   "cell_type": "code",
   "execution_count": 206,
   "metadata": {},
   "outputs": [
    {
     "data": {
      "text/plain": [
       "array([[ 0.37681465],\n",
       "       [-1.07121284],\n",
       "       [ 0.12975808],\n",
       "       [-0.21210998],\n",
       "       [ 0.83330361],\n",
       "       [-0.82197033],\n",
       "       [-0.84245213],\n",
       "       [-0.38092839],\n",
       "       [ 0.33050236],\n",
       "       [ 0.88936675],\n",
       "       [-0.26985963],\n",
       "       [-0.56062893],\n",
       "       [-1.23968072],\n",
       "       [-0.00371951],\n",
       "       [-0.13719712],\n",
       "       [-0.6482201 ],\n",
       "       [-0.19980495],\n",
       "       [-0.50423704],\n",
       "       [-2.18021489],\n",
       "       [ 1.66043823],\n",
       "       [-0.66006682],\n",
       "       [ 0.31428824],\n",
       "       [-0.10094465],\n",
       "       [ 0.08380819],\n",
       "       [-0.35395918],\n",
       "       [-0.60436731],\n",
       "       [-0.15175955],\n",
       "       [ 1.09752677],\n",
       "       [ 0.69884604],\n",
       "       [-0.39435021],\n",
       "       [ 1.34533164],\n",
       "       [ 2.17033297],\n",
       "       [ 1.58560323],\n",
       "       [ 1.55665851],\n",
       "       [-0.9804988 ],\n",
       "       [ 1.20398264],\n",
       "       [ 1.40305358],\n",
       "       [ 0.56799407],\n",
       "       [-0.26035638],\n",
       "       [-0.01700352],\n",
       "       [-0.67431603],\n",
       "       [ 2.42552267],\n",
       "       [-0.08061234],\n",
       "       [-0.21133728],\n",
       "       [ 0.75772785],\n",
       "       [-1.2497384 ],\n",
       "       [ 0.59919225],\n",
       "       [-0.10995201],\n",
       "       [ 0.24591651],\n",
       "       [ 0.33846137],\n",
       "       [-0.64636481],\n",
       "       [ 0.57319407],\n",
       "       [-2.70474871],\n",
       "       [-0.47898104],\n",
       "       [ 0.28741168],\n",
       "       [ 0.85220186],\n",
       "       [ 1.1509331 ],\n",
       "       [ 0.65871953],\n",
       "       [ 0.88984285],\n",
       "       [-0.45528188],\n",
       "       [-1.23855946],\n",
       "       [ 0.70280554],\n",
       "       [-0.06825971],\n",
       "       [ 0.48097012],\n",
       "       [ 0.98194611],\n",
       "       [ 1.46218413],\n",
       "       [-0.05243058],\n",
       "       [ 0.54437568],\n",
       "       [ 0.35374924],\n",
       "       [-0.8720232 ],\n",
       "       [-0.97413072],\n",
       "       [-0.49063167],\n",
       "       [ 0.08714929],\n",
       "       [-0.51188165],\n",
       "       [ 1.01200512],\n",
       "       [ 0.49831803],\n",
       "       [ 1.2246917 ],\n",
       "       [-2.53786615],\n",
       "       [-0.17973616],\n",
       "       [ 0.39703029],\n",
       "       [-0.27449421],\n",
       "       [-1.17216986],\n",
       "       [-0.59106376],\n",
       "       [-0.16590508],\n",
       "       [ 1.48839786],\n",
       "       [-0.22988669],\n",
       "       [-0.92100259],\n",
       "       [ 1.65142501],\n",
       "       [-2.28734023],\n",
       "       [ 0.11024495],\n",
       "       [ 0.56250916],\n",
       "       [-0.59291686],\n",
       "       [-0.68748534],\n",
       "       [-0.46105159],\n",
       "       [-0.59739038],\n",
       "       [ 0.57316637],\n",
       "       [ 0.19489998],\n",
       "       [ 0.15313541],\n",
       "       [ 0.50122449],\n",
       "       [-0.02548938],\n",
       "       [-1.17707711],\n",
       "       [-0.38119908],\n",
       "       [ 0.28297161],\n",
       "       [-0.85123712],\n",
       "       [-0.67956529],\n",
       "       [-0.84772838],\n",
       "       [-0.65942042],\n",
       "       [-0.86422135],\n",
       "       [-0.44284441],\n",
       "       [ 0.28200286],\n",
       "       [ 1.07490947],\n",
       "       [-0.93595441],\n",
       "       [ 1.75960827],\n",
       "       [ 0.72821778],\n",
       "       [ 0.87982409],\n",
       "       [-0.22431338],\n",
       "       [ 1.35477301],\n",
       "       [ 0.27659329],\n",
       "       [ 1.14080185],\n",
       "       [-1.64776463],\n",
       "       [-0.40389921],\n",
       "       [-0.95539144],\n",
       "       [ 0.53882567],\n",
       "       [-0.02145452],\n",
       "       [-1.09720778],\n",
       "       [-1.55047112],\n",
       "       [-0.86180904],\n",
       "       [ 1.52196128],\n",
       "       [-2.47184775],\n",
       "       [ 0.68639816],\n",
       "       [-1.18599839],\n",
       "       [-0.21623614],\n",
       "       [-0.20340899],\n",
       "       [ 0.79952863],\n",
       "       [ 0.9507983 ],\n",
       "       [-1.34994707],\n",
       "       [-1.22961   ],\n",
       "       [-0.11532077],\n",
       "       [ 1.28507783],\n",
       "       [-1.19489119],\n",
       "       [-0.95388033],\n",
       "       [-1.20213438],\n",
       "       [ 1.32454907],\n",
       "       [ 0.55387017],\n",
       "       [ 0.90748923],\n",
       "       [ 0.23333145],\n",
       "       [-0.12833216],\n",
       "       [-1.12290769],\n",
       "       [-0.73664607],\n",
       "       [-0.99094197],\n",
       "       [-0.17994869],\n",
       "       [ 0.55080053],\n",
       "       [-0.6082059 ],\n",
       "       [-1.60060029],\n",
       "       [ 0.90102501],\n",
       "       [ 1.03820086],\n",
       "       [ 0.66082862],\n",
       "       [-1.86778716],\n",
       "       [-0.12063966],\n",
       "       [ 0.78281071],\n",
       "       [ 1.10212944],\n",
       "       [-1.29697631],\n",
       "       [ 0.14384482],\n",
       "       [-1.02636721],\n",
       "       [-0.12409316],\n",
       "       [ 1.26383209],\n",
       "       [-0.38481782],\n",
       "       [-0.12754213],\n",
       "       [-1.74116754],\n",
       "       [ 0.49722706],\n",
       "       [-0.91699285],\n",
       "       [-1.08167696],\n",
       "       [-0.64746685],\n",
       "       [ 0.81436067],\n",
       "       [-0.40453615],\n",
       "       [-0.11438795],\n",
       "       [-0.83743283],\n",
       "       [ 0.77296573],\n",
       "       [-0.90973031],\n",
       "       [-0.16358308],\n",
       "       [-1.31584168],\n",
       "       [ 1.44824651],\n",
       "       [-1.24547015],\n",
       "       [-0.36072035],\n",
       "       [-0.790567  ],\n",
       "       [-0.5926083 ],\n",
       "       [ 0.64025815],\n",
       "       [ 0.58932694],\n",
       "       [ 0.34668517],\n",
       "       [ 1.51372281],\n",
       "       [-0.88132673],\n",
       "       [ 1.26969168],\n",
       "       [-0.86052688],\n",
       "       [-1.13678168],\n",
       "       [ 0.67838418],\n",
       "       [ 1.23394814],\n",
       "       [-1.83034968],\n",
       "       [ 1.15399765],\n",
       "       [-1.49028357],\n",
       "       [ 0.70891309],\n",
       "       [-0.64875161],\n",
       "       [ 0.43803595],\n",
       "       [ 0.5990718 ],\n",
       "       [-1.40272157],\n",
       "       [ 0.33960968],\n",
       "       [-0.74495754],\n",
       "       [ 0.17387638],\n",
       "       [-0.44824274],\n",
       "       [ 0.97883718],\n",
       "       [-1.07980594],\n",
       "       [ 2.38620812],\n",
       "       [ 0.4474311 ],\n",
       "       [ 0.13472673],\n",
       "       [ 1.00687353],\n",
       "       [-0.48207529],\n",
       "       [-0.65816738],\n",
       "       [-1.17400529],\n",
       "       [ 3.11251573],\n",
       "       [-1.1121021 ],\n",
       "       [-1.42982468],\n",
       "       [-0.70453166],\n",
       "       [-0.03824276],\n",
       "       [-1.01453158],\n",
       "       [-1.18753609],\n",
       "       [ 2.11523578],\n",
       "       [ 0.0472567 ],\n",
       "       [-1.12652288],\n",
       "       [-0.31514121],\n",
       "       [-0.24747005],\n",
       "       [ 0.15070258],\n",
       "       [ 0.49085329],\n",
       "       [ 0.16795588],\n",
       "       [-0.20887627],\n",
       "       [ 0.89354899],\n",
       "       [ 0.21479188],\n",
       "       [-0.25996551],\n",
       "       [ 1.54293893],\n",
       "       [-1.58263933],\n",
       "       [ 0.41066735],\n",
       "       [-0.15334907],\n",
       "       [-1.41256786],\n",
       "       [ 0.58528871],\n",
       "       [-0.69512151],\n",
       "       [ 0.93256528],\n",
       "       [-0.86475821],\n",
       "       [-1.09516822],\n",
       "       [ 0.32164881],\n",
       "       [ 0.7231101 ],\n",
       "       [ 0.57517576],\n",
       "       [-0.25309542],\n",
       "       [ 0.04755954],\n",
       "       [ 1.47860482],\n",
       "       [-0.16944961],\n",
       "       [-0.74572232],\n",
       "       [ 1.30435147],\n",
       "       [ 1.64592976],\n",
       "       [ 1.30573744],\n",
       "       [-2.22890343],\n",
       "       [-0.88166587],\n",
       "       [ 0.58643382],\n",
       "       [-1.15986289],\n",
       "       [-0.10642424],\n",
       "       [-0.13888203],\n",
       "       [ 0.73686571],\n",
       "       [-0.17118182],\n",
       "       [-0.07291813],\n",
       "       [ 1.03633277],\n",
       "       [ 0.22436557],\n",
       "       [ 0.36091403],\n",
       "       [-0.20413946],\n",
       "       [-0.11065946],\n",
       "       [ 0.91751231],\n",
       "       [-0.02537454],\n",
       "       [ 1.5777446 ],\n",
       "       [-0.83342137],\n",
       "       [-0.64963841],\n",
       "       [ 0.1210025 ],\n",
       "       [ 0.43782124],\n",
       "       [-0.68525056],\n",
       "       [-0.16904227],\n",
       "       [ 0.38803362],\n",
       "       [-0.32923368],\n",
       "       [-1.91498985],\n",
       "       [-1.30237936],\n",
       "       [-1.266902  ],\n",
       "       [-0.63112991],\n",
       "       [ 0.4229583 ],\n",
       "       [-0.85763922],\n",
       "       [-1.10330344],\n",
       "       [-1.13314725],\n",
       "       [ 0.8646906 ],\n",
       "       [ 1.38223371],\n",
       "       [-0.78132968],\n",
       "       [-0.14179283],\n",
       "       [ 1.44245778],\n",
       "       [-0.19913718],\n",
       "       [ 1.10758462],\n",
       "       [-1.54309559],\n",
       "       [-0.36466448],\n",
       "       [ 1.67793513],\n",
       "       [ 0.28389306],\n",
       "       [-3.10068686],\n",
       "       [-1.34269042],\n",
       "       [ 0.04372931],\n",
       "       [-0.55915796],\n",
       "       [ 0.51082034],\n",
       "       [ 0.41664405],\n",
       "       [-2.83463027],\n",
       "       [-0.97761187],\n",
       "       [-1.15425455],\n",
       "       [ 0.10319973],\n",
       "       [-0.20505679],\n",
       "       [-0.11523898],\n",
       "       [-0.17368204],\n",
       "       [-0.0979138 ],\n",
       "       [-0.83392918],\n",
       "       [-1.69921808],\n",
       "       [ 0.28963709],\n",
       "       [-0.42589542],\n",
       "       [ 0.53744281],\n",
       "       [ 0.07454231],\n",
       "       [ 2.23732207],\n",
       "       [-0.68497517],\n",
       "       [-1.07229297],\n",
       "       [ 1.20915981],\n",
       "       [ 0.69827364],\n",
       "       [ 0.40210746],\n",
       "       [-2.49202876],\n",
       "       [ 0.35316528],\n",
       "       [-1.49549884],\n",
       "       [ 0.95656393],\n",
       "       [-0.58203698],\n",
       "       [-0.22629312],\n",
       "       [ 2.50506505],\n",
       "       [ 1.79540464],\n",
       "       [ 0.40002273],\n",
       "       [ 0.19335528],\n",
       "       [-1.03376875],\n",
       "       [-0.54846724],\n",
       "       [ 1.89051251],\n",
       "       [-0.4453841 ],\n",
       "       [ 0.30795476],\n",
       "       [ 0.10831445],\n",
       "       [-1.30924956],\n",
       "       [-0.53737415],\n",
       "       [ 0.51461871],\n",
       "       [ 1.64167806],\n",
       "       [ 1.23534207],\n",
       "       [-2.25241701],\n",
       "       [ 1.9111851 ],\n",
       "       [ 1.28241764],\n",
       "       [-0.79175646],\n",
       "       [ 0.70408368],\n",
       "       [ 0.80278588],\n",
       "       [ 2.13275231],\n",
       "       [-1.03353953],\n",
       "       [ 0.85906113],\n",
       "       [ 0.2776775 ],\n",
       "       [ 0.47767615],\n",
       "       [-1.30750091],\n",
       "       [ 0.07097818],\n",
       "       [-1.11337827],\n",
       "       [ 0.75385083],\n",
       "       [-1.82008013],\n",
       "       [ 0.56030112],\n",
       "       [-0.82631591],\n",
       "       [-0.2006265 ],\n",
       "       [-0.8923873 ],\n",
       "       [-1.1168553 ],\n",
       "       [ 0.32568673],\n",
       "       [ 1.66385874],\n",
       "       [ 1.22338793],\n",
       "       [-0.21578294],\n",
       "       [ 0.79219431],\n",
       "       [ 0.47247422],\n",
       "       [ 1.85893246],\n",
       "       [-1.03551748],\n",
       "       [-0.44700157],\n",
       "       [ 0.66695019],\n",
       "       [ 0.65896722],\n",
       "       [-0.46122186],\n",
       "       [ 1.52386215],\n",
       "       [-1.27112568],\n",
       "       [ 1.47314379],\n",
       "       [-0.1892678 ],\n",
       "       [ 0.56772252],\n",
       "       [ 0.66877562],\n",
       "       [-0.90814914],\n",
       "       [-0.58543268],\n",
       "       [ 0.24679392],\n",
       "       [ 0.49772848],\n",
       "       [-1.00316314],\n",
       "       [-1.06897994],\n",
       "       [ 0.0841201 ],\n",
       "       [ 1.39071278],\n",
       "       [ 1.37605459],\n",
       "       [-0.61099472],\n",
       "       [-0.24374766],\n",
       "       [-0.59064491],\n",
       "       [ 1.03626183],\n",
       "       [ 1.25869802],\n",
       "       [-0.53690315],\n",
       "       [-0.76094372],\n",
       "       [ 0.48820675],\n",
       "       [-0.53936846],\n",
       "       [ 1.64687575],\n",
       "       [-0.25411924],\n",
       "       [-0.18890012],\n",
       "       [-1.95209999],\n",
       "       [-1.85862294],\n",
       "       [-1.29234872],\n",
       "       [-1.80747899],\n",
       "       [ 0.91718021],\n",
       "       [ 0.99919793],\n",
       "       [ 0.31232217],\n",
       "       [-0.45346259],\n",
       "       [-0.91591554],\n",
       "       [ 0.29927867],\n",
       "       [-0.87257073],\n",
       "       [ 0.13499182],\n",
       "       [ 0.56579888],\n",
       "       [ 0.06105993],\n",
       "       [-2.23354862],\n",
       "       [ 0.52540905],\n",
       "       [ 0.92354314],\n",
       "       [-1.06459118],\n",
       "       [-0.64233771],\n",
       "       [ 0.27518396],\n",
       "       [-0.15663397],\n",
       "       [ 0.77543128],\n",
       "       [ 0.32398469],\n",
       "       [ 0.55587342],\n",
       "       [ 0.43412232],\n",
       "       [ 0.05828539],\n",
       "       [ 0.0633776 ],\n",
       "       [-0.53795519],\n",
       "       [-0.07129196],\n",
       "       [ 3.60422216],\n",
       "       [-2.10870049],\n",
       "       [ 0.54336898],\n",
       "       [ 0.49738283],\n",
       "       [ 1.01024867],\n",
       "       [ 0.24084515],\n",
       "       [-0.03978953],\n",
       "       [ 1.90503102],\n",
       "       [ 1.89310669],\n",
       "       [-0.04386156],\n",
       "       [-1.9219046 ],\n",
       "       [ 1.43693811],\n",
       "       [ 1.44216315],\n",
       "       [ 0.97062767],\n",
       "       [-0.774028  ],\n",
       "       [-0.1536517 ],\n",
       "       [-0.78323527],\n",
       "       [-1.98409128],\n",
       "       [-0.85769744],\n",
       "       [ 1.72686559],\n",
       "       [ 0.58696287],\n",
       "       [-0.42426666],\n",
       "       [-0.08381304],\n",
       "       [-0.5689299 ],\n",
       "       [-0.27907472],\n",
       "       [ 1.81746321],\n",
       "       [-0.44898053],\n",
       "       [-0.37241061],\n",
       "       [-0.5860493 ],\n",
       "       [-0.61587008],\n",
       "       [ 1.07834026],\n",
       "       [-0.22205313],\n",
       "       [ 0.21633154],\n",
       "       [ 0.29121589],\n",
       "       [ 0.47463452],\n",
       "       [-0.57943176],\n",
       "       [-1.09229564],\n",
       "       [-0.91592593],\n",
       "       [ 0.08836446],\n",
       "       [ 0.71617471],\n",
       "       [-0.8864905 ],\n",
       "       [-0.19380839],\n",
       "       [ 1.53230919],\n",
       "       [ 1.46945316],\n",
       "       [ 0.74797291],\n",
       "       [-0.10660254],\n",
       "       [ 0.85576832],\n",
       "       [-0.58002433],\n",
       "       [-1.25958313],\n",
       "       [-1.12005377],\n",
       "       [-0.38438461],\n",
       "       [-0.32388458],\n",
       "       [ 0.18501622],\n",
       "       [-2.30054556],\n",
       "       [ 1.50286573],\n",
       "       [-2.14235518],\n",
       "       [ 2.82274442],\n",
       "       [-0.44284255],\n",
       "       [-0.52470508],\n",
       "       [-1.65513863],\n",
       "       [-0.11402054],\n",
       "       [-0.26500085],\n",
       "       [ 2.34158843]])"
      ]
     },
     "execution_count": 206,
     "metadata": {},
     "output_type": "execute_result"
    }
   ],
   "source": [
    "a"
   ]
  },
  {
   "cell_type": "code",
   "execution_count": 209,
   "metadata": {},
   "outputs": [
    {
     "data": {
      "text/plain": [
       "array([[[ 0.37681465, -1.07121284,  0.12975808, -0.21210998,\n",
       "          0.83330361],\n",
       "        [-0.82197033, -0.84245213, -0.38092839,  0.33050236,\n",
       "          0.88936675]],\n",
       "\n",
       "       [[-0.26985963, -0.56062893, -1.23968072, -0.00371951,\n",
       "         -0.13719712],\n",
       "        [-0.6482201 , -0.19980495, -0.50423704, -2.18021489,\n",
       "          1.66043823]],\n",
       "\n",
       "       [[-0.66006682,  0.31428824, -0.10094465,  0.08380819,\n",
       "         -0.35395918],\n",
       "        [-0.60436731, -0.15175955,  1.09752677,  0.69884604,\n",
       "         -0.39435021]],\n",
       "\n",
       "       [[ 1.34533164,  2.17033297,  1.58560323,  1.55665851,\n",
       "         -0.9804988 ],\n",
       "        [ 1.20398264,  1.40305358,  0.56799407, -0.26035638,\n",
       "         -0.01700352]],\n",
       "\n",
       "       [[-0.67431603,  2.42552267, -0.08061234, -0.21133728,\n",
       "          0.75772785],\n",
       "        [-1.2497384 ,  0.59919225, -0.10995201,  0.24591651,\n",
       "          0.33846137]],\n",
       "\n",
       "       [[-0.64636481,  0.57319407, -2.70474871, -0.47898104,\n",
       "          0.28741168],\n",
       "        [ 0.85220186,  1.1509331 ,  0.65871953,  0.88984285,\n",
       "         -0.45528188]],\n",
       "\n",
       "       [[-1.23855946,  0.70280554, -0.06825971,  0.48097012,\n",
       "          0.98194611],\n",
       "        [ 1.46218413, -0.05243058,  0.54437568,  0.35374924,\n",
       "         -0.8720232 ]],\n",
       "\n",
       "       [[-0.97413072, -0.49063167,  0.08714929, -0.51188165,\n",
       "          1.01200512],\n",
       "        [ 0.49831803,  1.2246917 , -2.53786615, -0.17973616,\n",
       "          0.39703029]],\n",
       "\n",
       "       [[-0.27449421, -1.17216986, -0.59106376, -0.16590508,\n",
       "          1.48839786],\n",
       "        [-0.22988669, -0.92100259,  1.65142501, -2.28734023,\n",
       "          0.11024495]],\n",
       "\n",
       "       [[ 0.56250916, -0.59291686, -0.68748534, -0.46105159,\n",
       "         -0.59739038],\n",
       "        [ 0.57316637,  0.19489998,  0.15313541,  0.50122449,\n",
       "         -0.02548938]],\n",
       "\n",
       "       [[-1.17707711, -0.38119908,  0.28297161, -0.85123712,\n",
       "         -0.67956529],\n",
       "        [-0.84772838, -0.65942042, -0.86422135, -0.44284441,\n",
       "          0.28200286]],\n",
       "\n",
       "       [[ 1.07490947, -0.93595441,  1.75960827,  0.72821778,\n",
       "          0.87982409],\n",
       "        [-0.22431338,  1.35477301,  0.27659329,  1.14080185,\n",
       "         -1.64776463]],\n",
       "\n",
       "       [[-0.40389921, -0.95539144,  0.53882567, -0.02145452,\n",
       "         -1.09720778],\n",
       "        [-1.55047112, -0.86180904,  1.52196128, -2.47184775,\n",
       "          0.68639816]],\n",
       "\n",
       "       [[-1.18599839, -0.21623614, -0.20340899,  0.79952863,\n",
       "          0.9507983 ],\n",
       "        [-1.34994707, -1.22961   , -0.11532077,  1.28507783,\n",
       "         -1.19489119]],\n",
       "\n",
       "       [[-0.95388033, -1.20213438,  1.32454907,  0.55387017,\n",
       "          0.90748923],\n",
       "        [ 0.23333145, -0.12833216, -1.12290769, -0.73664607,\n",
       "         -0.99094197]],\n",
       "\n",
       "       [[-0.17994869,  0.55080053, -0.6082059 , -1.60060029,\n",
       "          0.90102501],\n",
       "        [ 1.03820086,  0.66082862, -1.86778716, -0.12063966,\n",
       "          0.78281071]],\n",
       "\n",
       "       [[ 1.10212944, -1.29697631,  0.14384482, -1.02636721,\n",
       "         -0.12409316],\n",
       "        [ 1.26383209, -0.38481782, -0.12754213, -1.74116754,\n",
       "          0.49722706]],\n",
       "\n",
       "       [[-0.91699285, -1.08167696, -0.64746685,  0.81436067,\n",
       "         -0.40453615],\n",
       "        [-0.11438795, -0.83743283,  0.77296573, -0.90973031,\n",
       "         -0.16358308]],\n",
       "\n",
       "       [[-1.31584168,  1.44824651, -1.24547015, -0.36072035,\n",
       "         -0.790567  ],\n",
       "        [-0.5926083 ,  0.64025815,  0.58932694,  0.34668517,\n",
       "          1.51372281]],\n",
       "\n",
       "       [[-0.88132673,  1.26969168, -0.86052688, -1.13678168,\n",
       "          0.67838418],\n",
       "        [ 1.23394814, -1.83034968,  1.15399765, -1.49028357,\n",
       "          0.70891309]],\n",
       "\n",
       "       [[-0.64875161,  0.43803595,  0.5990718 , -1.40272157,\n",
       "          0.33960968],\n",
       "        [-0.74495754,  0.17387638, -0.44824274,  0.97883718,\n",
       "         -1.07980594]],\n",
       "\n",
       "       [[ 2.38620812,  0.4474311 ,  0.13472673,  1.00687353,\n",
       "         -0.48207529],\n",
       "        [-0.65816738, -1.17400529,  3.11251573, -1.1121021 ,\n",
       "         -1.42982468]],\n",
       "\n",
       "       [[-0.70453166, -0.03824276, -1.01453158, -1.18753609,\n",
       "          2.11523578],\n",
       "        [ 0.0472567 , -1.12652288, -0.31514121, -0.24747005,\n",
       "          0.15070258]],\n",
       "\n",
       "       [[ 0.49085329,  0.16795588, -0.20887627,  0.89354899,\n",
       "          0.21479188],\n",
       "        [-0.25996551,  1.54293893, -1.58263933,  0.41066735,\n",
       "         -0.15334907]],\n",
       "\n",
       "       [[-1.41256786,  0.58528871, -0.69512151,  0.93256528,\n",
       "         -0.86475821],\n",
       "        [-1.09516822,  0.32164881,  0.7231101 ,  0.57517576,\n",
       "         -0.25309542]],\n",
       "\n",
       "       [[ 0.04755954,  1.47860482, -0.16944961, -0.74572232,\n",
       "          1.30435147],\n",
       "        [ 1.64592976,  1.30573744, -2.22890343, -0.88166587,\n",
       "          0.58643382]],\n",
       "\n",
       "       [[-1.15986289, -0.10642424, -0.13888203,  0.73686571,\n",
       "         -0.17118182],\n",
       "        [-0.07291813,  1.03633277,  0.22436557,  0.36091403,\n",
       "         -0.20413946]],\n",
       "\n",
       "       [[-0.11065946,  0.91751231, -0.02537454,  1.5777446 ,\n",
       "         -0.83342137],\n",
       "        [-0.64963841,  0.1210025 ,  0.43782124, -0.68525056,\n",
       "         -0.16904227]],\n",
       "\n",
       "       [[ 0.38803362, -0.32923368, -1.91498985, -1.30237936,\n",
       "         -1.266902  ],\n",
       "        [-0.63112991,  0.4229583 , -0.85763922, -1.10330344,\n",
       "         -1.13314725]],\n",
       "\n",
       "       [[ 0.8646906 ,  1.38223371, -0.78132968, -0.14179283,\n",
       "          1.44245778],\n",
       "        [-0.19913718,  1.10758462, -1.54309559, -0.36466448,\n",
       "          1.67793513]],\n",
       "\n",
       "       [[ 0.28389306, -3.10068686, -1.34269042,  0.04372931,\n",
       "         -0.55915796],\n",
       "        [ 0.51082034,  0.41664405, -2.83463027, -0.97761187,\n",
       "         -1.15425455]],\n",
       "\n",
       "       [[ 0.10319973, -0.20505679, -0.11523898, -0.17368204,\n",
       "         -0.0979138 ],\n",
       "        [-0.83392918, -1.69921808,  0.28963709, -0.42589542,\n",
       "          0.53744281]],\n",
       "\n",
       "       [[ 0.07454231,  2.23732207, -0.68497517, -1.07229297,\n",
       "          1.20915981],\n",
       "        [ 0.69827364,  0.40210746, -2.49202876,  0.35316528,\n",
       "         -1.49549884]],\n",
       "\n",
       "       [[ 0.95656393, -0.58203698, -0.22629312,  2.50506505,\n",
       "          1.79540464],\n",
       "        [ 0.40002273,  0.19335528, -1.03376875, -0.54846724,\n",
       "          1.89051251]],\n",
       "\n",
       "       [[-0.4453841 ,  0.30795476,  0.10831445, -1.30924956,\n",
       "         -0.53737415],\n",
       "        [ 0.51461871,  1.64167806,  1.23534207, -2.25241701,\n",
       "          1.9111851 ]],\n",
       "\n",
       "       [[ 1.28241764, -0.79175646,  0.70408368,  0.80278588,\n",
       "          2.13275231],\n",
       "        [-1.03353953,  0.85906113,  0.2776775 ,  0.47767615,\n",
       "         -1.30750091]],\n",
       "\n",
       "       [[ 0.07097818, -1.11337827,  0.75385083, -1.82008013,\n",
       "          0.56030112],\n",
       "        [-0.82631591, -0.2006265 , -0.8923873 , -1.1168553 ,\n",
       "          0.32568673]],\n",
       "\n",
       "       [[ 1.66385874,  1.22338793, -0.21578294,  0.79219431,\n",
       "          0.47247422],\n",
       "        [ 1.85893246, -1.03551748, -0.44700157,  0.66695019,\n",
       "          0.65896722]],\n",
       "\n",
       "       [[-0.46122186,  1.52386215, -1.27112568,  1.47314379,\n",
       "         -0.1892678 ],\n",
       "        [ 0.56772252,  0.66877562, -0.90814914, -0.58543268,\n",
       "          0.24679392]],\n",
       "\n",
       "       [[ 0.49772848, -1.00316314, -1.06897994,  0.0841201 ,\n",
       "          1.39071278],\n",
       "        [ 1.37605459, -0.61099472, -0.24374766, -0.59064491,\n",
       "          1.03626183]],\n",
       "\n",
       "       [[ 1.25869802, -0.53690315, -0.76094372,  0.48820675,\n",
       "         -0.53936846],\n",
       "        [ 1.64687575, -0.25411924, -0.18890012, -1.95209999,\n",
       "         -1.85862294]],\n",
       "\n",
       "       [[-1.29234872, -1.80747899,  0.91718021,  0.99919793,\n",
       "          0.31232217],\n",
       "        [-0.45346259, -0.91591554,  0.29927867, -0.87257073,\n",
       "          0.13499182]],\n",
       "\n",
       "       [[ 0.56579888,  0.06105993, -2.23354862,  0.52540905,\n",
       "          0.92354314],\n",
       "        [-1.06459118, -0.64233771,  0.27518396, -0.15663397,\n",
       "          0.77543128]],\n",
       "\n",
       "       [[ 0.32398469,  0.55587342,  0.43412232,  0.05828539,\n",
       "          0.0633776 ],\n",
       "        [-0.53795519, -0.07129196,  3.60422216, -2.10870049,\n",
       "          0.54336898]],\n",
       "\n",
       "       [[ 0.49738283,  1.01024867,  0.24084515, -0.03978953,\n",
       "          1.90503102],\n",
       "        [ 1.89310669, -0.04386156, -1.9219046 ,  1.43693811,\n",
       "          1.44216315]],\n",
       "\n",
       "       [[ 0.97062767, -0.774028  , -0.1536517 , -0.78323527,\n",
       "         -1.98409128],\n",
       "        [-0.85769744,  1.72686559,  0.58696287, -0.42426666,\n",
       "         -0.08381304]],\n",
       "\n",
       "       [[-0.5689299 , -0.27907472,  1.81746321, -0.44898053,\n",
       "         -0.37241061],\n",
       "        [-0.5860493 , -0.61587008,  1.07834026, -0.22205313,\n",
       "          0.21633154]],\n",
       "\n",
       "       [[ 0.29121589,  0.47463452, -0.57943176, -1.09229564,\n",
       "         -0.91592593],\n",
       "        [ 0.08836446,  0.71617471, -0.8864905 , -0.19380839,\n",
       "          1.53230919]],\n",
       "\n",
       "       [[ 1.46945316,  0.74797291, -0.10660254,  0.85576832,\n",
       "         -0.58002433],\n",
       "        [-1.25958313, -1.12005377, -0.38438461, -0.32388458,\n",
       "          0.18501622]],\n",
       "\n",
       "       [[-2.30054556,  1.50286573, -2.14235518,  2.82274442,\n",
       "         -0.44284255],\n",
       "        [-0.52470508, -1.65513863, -0.11402054, -0.26500085,\n",
       "          2.34158843]]])"
      ]
     },
     "execution_count": 209,
     "metadata": {},
     "output_type": "execute_result"
    }
   ],
   "source": [
    "a.reshape(50,2,5)"
   ]
  },
  {
   "cell_type": "code",
   "execution_count": 212,
   "metadata": {},
   "outputs": [
    {
     "data": {
      "text/html": [
       "<div>\n",
       "<style scoped>\n",
       "    .dataframe tbody tr th:only-of-type {\n",
       "        vertical-align: middle;\n",
       "    }\n",
       "\n",
       "    .dataframe tbody tr th {\n",
       "        vertical-align: top;\n",
       "    }\n",
       "\n",
       "    .dataframe thead th {\n",
       "        text-align: right;\n",
       "    }\n",
       "</style>\n",
       "<table border=\"1\" class=\"dataframe\">\n",
       "  <thead>\n",
       "    <tr style=\"text-align: right;\">\n",
       "      <th></th>\n",
       "      <th>0</th>\n",
       "      <th>1</th>\n",
       "      <th>2</th>\n",
       "      <th>3</th>\n",
       "      <th>4</th>\n",
       "    </tr>\n",
       "  </thead>\n",
       "  <tbody>\n",
       "    <tr>\n",
       "      <th>0</th>\n",
       "      <td>1.0</td>\n",
       "      <td>18.0</td>\n",
       "      <td>324.0</td>\n",
       "      <td>5832.0</td>\n",
       "      <td>104976.0</td>\n",
       "    </tr>\n",
       "    <tr>\n",
       "      <th>1</th>\n",
       "      <td>1.0</td>\n",
       "      <td>24.0</td>\n",
       "      <td>576.0</td>\n",
       "      <td>13824.0</td>\n",
       "      <td>331776.0</td>\n",
       "    </tr>\n",
       "    <tr>\n",
       "      <th>2</th>\n",
       "      <td>1.0</td>\n",
       "      <td>45.0</td>\n",
       "      <td>2025.0</td>\n",
       "      <td>91125.0</td>\n",
       "      <td>4100625.0</td>\n",
       "    </tr>\n",
       "    <tr>\n",
       "      <th>3</th>\n",
       "      <td>1.0</td>\n",
       "      <td>43.0</td>\n",
       "      <td>1849.0</td>\n",
       "      <td>79507.0</td>\n",
       "      <td>3418801.0</td>\n",
       "    </tr>\n",
       "    <tr>\n",
       "      <th>4</th>\n",
       "      <td>1.0</td>\n",
       "      <td>50.0</td>\n",
       "      <td>2500.0</td>\n",
       "      <td>125000.0</td>\n",
       "      <td>6250000.0</td>\n",
       "    </tr>\n",
       "    <tr>\n",
       "      <th>...</th>\n",
       "      <td>...</td>\n",
       "      <td>...</td>\n",
       "      <td>...</td>\n",
       "      <td>...</td>\n",
       "      <td>...</td>\n",
       "    </tr>\n",
       "    <tr>\n",
       "      <th>2995</th>\n",
       "      <td>1.0</td>\n",
       "      <td>44.0</td>\n",
       "      <td>1936.0</td>\n",
       "      <td>85184.0</td>\n",
       "      <td>3748096.0</td>\n",
       "    </tr>\n",
       "    <tr>\n",
       "      <th>2996</th>\n",
       "      <td>1.0</td>\n",
       "      <td>30.0</td>\n",
       "      <td>900.0</td>\n",
       "      <td>27000.0</td>\n",
       "      <td>810000.0</td>\n",
       "    </tr>\n",
       "    <tr>\n",
       "      <th>2997</th>\n",
       "      <td>1.0</td>\n",
       "      <td>27.0</td>\n",
       "      <td>729.0</td>\n",
       "      <td>19683.0</td>\n",
       "      <td>531441.0</td>\n",
       "    </tr>\n",
       "    <tr>\n",
       "      <th>2998</th>\n",
       "      <td>1.0</td>\n",
       "      <td>27.0</td>\n",
       "      <td>729.0</td>\n",
       "      <td>19683.0</td>\n",
       "      <td>531441.0</td>\n",
       "    </tr>\n",
       "    <tr>\n",
       "      <th>2999</th>\n",
       "      <td>1.0</td>\n",
       "      <td>55.0</td>\n",
       "      <td>3025.0</td>\n",
       "      <td>166375.0</td>\n",
       "      <td>9150625.0</td>\n",
       "    </tr>\n",
       "  </tbody>\n",
       "</table>\n",
       "<p>3000 rows × 5 columns</p>\n",
       "</div>"
      ],
      "text/plain": [
       "        0     1       2         3          4\n",
       "0     1.0  18.0   324.0    5832.0   104976.0\n",
       "1     1.0  24.0   576.0   13824.0   331776.0\n",
       "2     1.0  45.0  2025.0   91125.0  4100625.0\n",
       "3     1.0  43.0  1849.0   79507.0  3418801.0\n",
       "4     1.0  50.0  2500.0  125000.0  6250000.0\n",
       "...   ...   ...     ...       ...        ...\n",
       "2995  1.0  44.0  1936.0   85184.0  3748096.0\n",
       "2996  1.0  30.0   900.0   27000.0   810000.0\n",
       "2997  1.0  27.0   729.0   19683.0   531441.0\n",
       "2998  1.0  27.0   729.0   19683.0   531441.0\n",
       "2999  1.0  55.0  3025.0  166375.0  9150625.0\n",
       "\n",
       "[3000 rows x 5 columns]"
      ]
     },
     "execution_count": 212,
     "metadata": {},
     "output_type": "execute_result"
    }
   ],
   "source": [
    "pd.DataFrame(pft4)"
   ]
  },
  {
   "cell_type": "code",
   "execution_count": 213,
   "metadata": {},
   "outputs": [
    {
     "data": {
      "text/html": [
       "<div>\n",
       "<style scoped>\n",
       "    .dataframe tbody tr th:only-of-type {\n",
       "        vertical-align: middle;\n",
       "    }\n",
       "\n",
       "    .dataframe tbody tr th {\n",
       "        vertical-align: top;\n",
       "    }\n",
       "\n",
       "    .dataframe thead th {\n",
       "        text-align: right;\n",
       "    }\n",
       "</style>\n",
       "<table border=\"1\" class=\"dataframe\">\n",
       "  <thead>\n",
       "    <tr style=\"text-align: right;\">\n",
       "      <th></th>\n",
       "      <th>age</th>\n",
       "    </tr>\n",
       "  </thead>\n",
       "  <tbody>\n",
       "    <tr>\n",
       "      <th>0</th>\n",
       "      <td>18</td>\n",
       "    </tr>\n",
       "    <tr>\n",
       "      <th>1</th>\n",
       "      <td>24</td>\n",
       "    </tr>\n",
       "    <tr>\n",
       "      <th>2</th>\n",
       "      <td>45</td>\n",
       "    </tr>\n",
       "    <tr>\n",
       "      <th>3</th>\n",
       "      <td>43</td>\n",
       "    </tr>\n",
       "    <tr>\n",
       "      <th>4</th>\n",
       "      <td>50</td>\n",
       "    </tr>\n",
       "    <tr>\n",
       "      <th>...</th>\n",
       "      <td>...</td>\n",
       "    </tr>\n",
       "    <tr>\n",
       "      <th>2995</th>\n",
       "      <td>44</td>\n",
       "    </tr>\n",
       "    <tr>\n",
       "      <th>2996</th>\n",
       "      <td>30</td>\n",
       "    </tr>\n",
       "    <tr>\n",
       "      <th>2997</th>\n",
       "      <td>27</td>\n",
       "    </tr>\n",
       "    <tr>\n",
       "      <th>2998</th>\n",
       "      <td>27</td>\n",
       "    </tr>\n",
       "    <tr>\n",
       "      <th>2999</th>\n",
       "      <td>55</td>\n",
       "    </tr>\n",
       "  </tbody>\n",
       "</table>\n",
       "<p>3000 rows × 1 columns</p>\n",
       "</div>"
      ],
      "text/plain": [
       "      age\n",
       "0      18\n",
       "1      24\n",
       "2      45\n",
       "3      43\n",
       "4      50\n",
       "...   ...\n",
       "2995   44\n",
       "2996   30\n",
       "2997   27\n",
       "2998   27\n",
       "2999   55\n",
       "\n",
       "[3000 rows x 1 columns]"
      ]
     },
     "execution_count": 213,
     "metadata": {},
     "output_type": "execute_result"
    }
   ],
   "source": [
    "x1"
   ]
  },
  {
   "cell_type": "code",
   "execution_count": 217,
   "metadata": {},
   "outputs": [
    {
     "data": {
      "text/html": [
       "<div>\n",
       "<style scoped>\n",
       "    .dataframe tbody tr th:only-of-type {\n",
       "        vertical-align: middle;\n",
       "    }\n",
       "\n",
       "    .dataframe tbody tr th {\n",
       "        vertical-align: top;\n",
       "    }\n",
       "\n",
       "    .dataframe thead th {\n",
       "        text-align: right;\n",
       "    }\n",
       "</style>\n",
       "<table border=\"1\" class=\"dataframe\">\n",
       "  <thead>\n",
       "    <tr style=\"text-align: right;\">\n",
       "      <th></th>\n",
       "      <th>wage</th>\n",
       "    </tr>\n",
       "  </thead>\n",
       "  <tbody>\n",
       "    <tr>\n",
       "      <th>0</th>\n",
       "      <td>75.043154</td>\n",
       "    </tr>\n",
       "    <tr>\n",
       "      <th>1</th>\n",
       "      <td>70.476020</td>\n",
       "    </tr>\n",
       "    <tr>\n",
       "      <th>2</th>\n",
       "      <td>130.982177</td>\n",
       "    </tr>\n",
       "    <tr>\n",
       "      <th>3</th>\n",
       "      <td>154.685293</td>\n",
       "    </tr>\n",
       "    <tr>\n",
       "      <th>4</th>\n",
       "      <td>75.043154</td>\n",
       "    </tr>\n",
       "    <tr>\n",
       "      <th>...</th>\n",
       "      <td>...</td>\n",
       "    </tr>\n",
       "    <tr>\n",
       "      <th>2995</th>\n",
       "      <td>154.685293</td>\n",
       "    </tr>\n",
       "    <tr>\n",
       "      <th>2996</th>\n",
       "      <td>99.689464</td>\n",
       "    </tr>\n",
       "    <tr>\n",
       "      <th>2997</th>\n",
       "      <td>66.229408</td>\n",
       "    </tr>\n",
       "    <tr>\n",
       "      <th>2998</th>\n",
       "      <td>87.981033</td>\n",
       "    </tr>\n",
       "    <tr>\n",
       "      <th>2999</th>\n",
       "      <td>90.481913</td>\n",
       "    </tr>\n",
       "  </tbody>\n",
       "</table>\n",
       "<p>3000 rows × 1 columns</p>\n",
       "</div>"
      ],
      "text/plain": [
       "            wage\n",
       "0      75.043154\n",
       "1      70.476020\n",
       "2     130.982177\n",
       "3     154.685293\n",
       "4      75.043154\n",
       "...          ...\n",
       "2995  154.685293\n",
       "2996   99.689464\n",
       "2997   66.229408\n",
       "2998   87.981033\n",
       "2999   90.481913\n",
       "\n",
       "[3000 rows x 1 columns]"
      ]
     },
     "execution_count": 217,
     "metadata": {},
     "output_type": "execute_result"
    }
   ],
   "source": [
    "y"
   ]
  },
  {
   "cell_type": "code",
   "execution_count": 220,
   "metadata": {},
   "outputs": [
    {
     "data": {
      "image/png": "[encoded data removed]",
      "text/plain": [
       "<Figure size 432x288 with 1 Axes>"
      ]
     },
     "metadata": {
      "needs_background": "light"
     },
     "output_type": "display_data"
    }
   ],
   "source": [
    "# Fitting Polynomial Regression to the dataset\n",
    "from sklearn.preprocessing import PolynomialFeatures\n",
    "poly_reg = PolynomialFeatures(degree=4)\n",
    "X_poly = poly_reg.fit_transform(x1)\n",
    "pol_reg = LinearRegression()\n",
    "pol_reg.fit(X_poly, y)\n",
    "\n",
    "# Visualizing the Polymonial Regression results\n",
    "def viz_polymonial():\n",
    "    plt.scatter(x1, y, color='red')\n",
    "    plt.plot(x1, pol_reg.predict(poly_reg.fit_transform(x1)), color='blue')\n",
    "    plt.title('Truth or Bluff (Linear Regression)')\n",
    "    plt.xlabel('Ages')\n",
    "    plt.ylabel('Wages')\n",
    "    plt.show()\n",
    "    return\n",
    "viz_polymonial()"
   ]
  },
  {
   "cell_type": "code",
   "execution_count": null,
   "metadata": {},
   "outputs": [],
   "source": []
  }
 ],
 "metadata": {
  "kernelspec": {
   "display_name": "Python 3",
   "language": "python",
   "name": "python3"
  },
  "language_info": {
   "codemirror_mode": {
    "name": "ipython",
    "version": 3
   },
   "file_extension": ".py",
   "mimetype": "text/x-python",
   "name": "python",
   "nbconvert_exporter": "python",
   "pygments_lexer": "ipython3",
   "version": "3.8.5"
  }
 },
 "nbformat": 4,
 "nbformat_minor": 4
}
