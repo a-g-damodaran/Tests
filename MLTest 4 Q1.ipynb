{
 "cells": [
  {
   "cell_type": "code",
   "execution_count": 1,
   "metadata": {},
   "outputs": [],
   "source": [
    "import pandas as pd\n",
    "import numpy as np \n",
    "from sklearn.ensemble import AdaBoostClassifier, GradientBoostingClassifier\n",
    "from sklearn.model_selection import GridSearchCV\n",
    "from sklearn.tree import DecisionTreeClassifier\n",
    "from sklearn.metrics import classification_report, confusion_matrix"
   ]
  },
  {
   "cell_type": "code",
   "execution_count": 2,
   "metadata": {},
   "outputs": [],
   "source": [
    "train=pd.read_csv(r'C:\\Users\\Dell\\Desktop\\Question-1\\res\\diabetes_train.csv')\n",
    "test=pd.read_csv(r'C:\\Users\\Dell\\Desktop\\Question-1\\res\\diabetes_test.csv')\n",
    "x_train = train.drop('Outcome', axis = 1)\n",
    "y_train = train['Outcome']\n",
    "x_test = test.drop('Outcome', axis = 1)\n",
    "y_test = test['Outcome']"
   ]
  },
  {
   "cell_type": "code",
   "execution_count": 20,
   "metadata": {},
   "outputs": [
    {
     "name": "stdout",
     "output_type": "stream",
     "text": [
      "AdaBoostClassifier(algorithm='SAMME', base_estimator=DecisionTreeClassifier(),\n",
      "                   learning_rate=0.3, random_state=42)\n",
      "[[119  31]\n",
      " [ 40  41]]\n"
     ]
    }
   ],
   "source": [
    "param_grid1 = {\n",
    "                'n_estimators':[50,100,300,400],\n",
    "                'learning_rate':[0.3,0.6,0.9,1],\n",
    "                'algorithm': ['SAMME','SAMME.R'],\n",
    "                'random_state': [42]\n",
    "\n",
    "                }\n",
    "cv1 = GridSearchCV(estimator = AdaBoostClassifier(base_estimator=DecisionTreeClassifier()),\n",
    "                    param_grid = param_grid1,\n",
    "                    cv=5, \n",
    "                    return_train_score=True\n",
    "\n",
    ")\n",
    "cv1.fit(x_train,y_train)\n",
    "y_pred = cv1.predict(x_test)\n",
    "print(cv1.best_estimator_)\n",
    "be1 = cv1.best_estimator_\n",
    "print(confusion_matrix(y_test, y_pred))\n",
    "cm1 = confusion_matrix(y_test, y_pred)"
   ]
  },
  {
   "cell_type": "code",
   "execution_count": null,
   "metadata": {},
   "outputs": [],
   "source": [
    "param_grid2 = {\n",
    "                'n_estimators':[50,100,300,400],\n",
    "                'learning_rate':[0.3,0.6,0.9,1],\n",
    "                'loss': ['deviance', 'exponential'],\n",
    "                'criterion':['friedman_mse','mae'],\n",
    "                'max_depth': [3,5,8,10],\n",
    "                'random_state': [42]\n",
    "\n",
    "                }\n",
    "cv2 = GridSearchCV(estimator = GradientBoostingClassifier(),#base_estimator=DecisionTreeClassifier()),\n",
    "                    param_grid = param_grid2,\n",
    "                    cv=5, \n",
    "                    return_train_score=True\n",
    "\n",
    ")\n",
    "cv2.fit(x_train,y_train)\n",
    "y_pred = cv2.predict(x_test)\n",
    "print(cv2.best_estimator_)\n",
    "be2 = cv2.best_estimator_\n",
    "print(confusion_matrix(y_test, y_pred))\n",
    "cm2  = confusion_matrix(y_test, y_pred)"
   ]
  },
  {
   "cell_type": "code",
   "execution_count": 23,
   "metadata": {},
   "outputs": [],
   "source": [
    "tot1 = cm1[0][0] + cm1[0][1] + cm1[1][0] + cm1[1][1]\n",
    "acc1 = (cm1[0][0] + cm1[1][1])/tot1\n",
    "sen1 = (cm1[1][1])/(cm1[1][0] + cm1[1][1])\n",
    "spe1 = (cm1[0][0])/(cm1[0][0] + cm1[0][1])\n",
    "\n",
    "tot2 = cm2[0][0] + cm2[0][1] + cm2[1][0] + cm2[1][1]\n",
    "acc2 = (cm2[0][0] + cm2[1][1])/tot2\n",
    "sen2 = (cm2[1][1])/(cm2[1][0] + cm2[1][1])\n",
    "spe2 = (cm2[0][0])/(cm2[0][0] + cm2[0][1])\n",
    "\n",
    "# print(acc1,acc2,sen1,sen2,spe1,spe2)\n",
    "\n",
    "result = [0.3,50, round((max([acc1,acc2])*100),2),\n",
    "          round((max([sen1,sen2])*100),2),\n",
    "          round((max([spe1,spe2])*100),2)]\n",
    "\n"
   ]
  },
  {
   "cell_type": "code",
   "execution_count": 24,
   "metadata": {},
   "outputs": [
    {
     "data": {
      "text/plain": [
       "[0.3, 50, 76.62, 61.73, 84.67]"
      ]
     },
     "execution_count": 24,
     "metadata": {},
     "output_type": "execute_result"
    }
   ],
   "source": [
    "result"
   ]
  },
  {
   "cell_type": "code",
   "execution_count": 25,
   "metadata": {},
   "outputs": [],
   "source": [
    "result=pd.DataFrame(result)\n",
    "# writing output to output.csv\n",
    "result.to_csv('output.csv', header=False, index=False)"
   ]
  },
  {
   "cell_type": "code",
   "execution_count": 26,
   "metadata": {},
   "outputs": [
    {
     "data": {
      "text/html": [
       "<div>\n",
       "<style scoped>\n",
       "    .dataframe tbody tr th:only-of-type {\n",
       "        vertical-align: middle;\n",
       "    }\n",
       "\n",
       "    .dataframe tbody tr th {\n",
       "        vertical-align: top;\n",
       "    }\n",
       "\n",
       "    .dataframe thead th {\n",
       "        text-align: right;\n",
       "    }\n",
       "</style>\n",
       "<table border=\"1\" class=\"dataframe\">\n",
       "  <thead>\n",
       "    <tr style=\"text-align: right;\">\n",
       "      <th></th>\n",
       "      <th>0</th>\n",
       "    </tr>\n",
       "  </thead>\n",
       "  <tbody>\n",
       "    <tr>\n",
       "      <th>0</th>\n",
       "      <td>0.30</td>\n",
       "    </tr>\n",
       "    <tr>\n",
       "      <th>1</th>\n",
       "      <td>50.00</td>\n",
       "    </tr>\n",
       "    <tr>\n",
       "      <th>2</th>\n",
       "      <td>76.62</td>\n",
       "    </tr>\n",
       "    <tr>\n",
       "      <th>3</th>\n",
       "      <td>61.73</td>\n",
       "    </tr>\n",
       "    <tr>\n",
       "      <th>4</th>\n",
       "      <td>84.67</td>\n",
       "    </tr>\n",
       "  </tbody>\n",
       "</table>\n",
       "</div>"
      ],
      "text/plain": [
       "       0\n",
       "0   0.30\n",
       "1  50.00\n",
       "2  76.62\n",
       "3  61.73\n",
       "4  84.67"
      ]
     },
     "execution_count": 26,
     "metadata": {},
     "output_type": "execute_result"
    }
   ],
   "source": [
    "result"
   ]
  },
  {
   "cell_type": "code",
   "execution_count": null,
   "metadata": {},
   "outputs": [],
   "source": []
  }
 ],
 "metadata": {
  "kernelspec": {
   "display_name": "Python 3",
   "language": "python",
   "name": "python3"
  },
  "language_info": {
   "codemirror_mode": {
    "name": "ipython",
    "version": 3
   },
   "file_extension": ".py",
   "mimetype": "text/x-python",
   "name": "python",
   "nbconvert_exporter": "python",
   "pygments_lexer": "ipython3",
   "version": "3.8.5"
  }
 },
 "nbformat": 4,
 "nbformat_minor": 4
}
